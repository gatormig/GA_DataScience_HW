{
 "cells": [
  {
   "cell_type": "code",
   "execution_count": 23,
   "metadata": {},
   "outputs": [
    {
     "data": {
      "text/html": [
       "<div>\n",
       "<style scoped>\n",
       "    .dataframe tbody tr th:only-of-type {\n",
       "        vertical-align: middle;\n",
       "    }\n",
       "\n",
       "    .dataframe tbody tr th {\n",
       "        vertical-align: top;\n",
       "    }\n",
       "\n",
       "    .dataframe thead th {\n",
       "        text-align: right;\n",
       "    }\n",
       "</style>\n",
       "<table border=\"1\" class=\"dataframe\">\n",
       "  <thead>\n",
       "    <tr style=\"text-align: right;\">\n",
       "      <th></th>\n",
       "      <th>Company</th>\n",
       "      <th>Title</th>\n",
       "      <th>Category</th>\n",
       "      <th>Location</th>\n",
       "      <th>Responsibilities</th>\n",
       "      <th>Minimum Qualifications</th>\n",
       "      <th>Preferred Qualifications</th>\n",
       "    </tr>\n",
       "  </thead>\n",
       "  <tbody>\n",
       "    <tr>\n",
       "      <th>0</th>\n",
       "      <td>Google</td>\n",
       "      <td>Google Cloud Program Manager</td>\n",
       "      <td>Program Management</td>\n",
       "      <td>Singapore</td>\n",
       "      <td>Shape, shepherd, ship, and show technical prog...</td>\n",
       "      <td>BA/BS degree or equivalent practical experienc...</td>\n",
       "      <td>Experience in the business technology market a...</td>\n",
       "    </tr>\n",
       "    <tr>\n",
       "      <th>1</th>\n",
       "      <td>Google</td>\n",
       "      <td>Supplier Development Engineer (SDE), Cable/Con...</td>\n",
       "      <td>Manufacturing &amp; Supply Chain</td>\n",
       "      <td>Shanghai, China</td>\n",
       "      <td>Drive cross-functional activities in the suppl...</td>\n",
       "      <td>BS degree in an Engineering discipline or equi...</td>\n",
       "      <td>BSEE, BSME or BSIE degree.\\nExperience of usin...</td>\n",
       "    </tr>\n",
       "    <tr>\n",
       "      <th>2</th>\n",
       "      <td>Google</td>\n",
       "      <td>Data Analyst, Product and Tools Operations, Go...</td>\n",
       "      <td>Technical Solutions</td>\n",
       "      <td>New York, NY, United States</td>\n",
       "      <td>Collect and analyze data to draw insight and i...</td>\n",
       "      <td>Bachelor’s degree in Business, Economics, Stat...</td>\n",
       "      <td>Experience partnering or consulting cross-func...</td>\n",
       "    </tr>\n",
       "    <tr>\n",
       "      <th>3</th>\n",
       "      <td>Google</td>\n",
       "      <td>Developer Advocate, Partner Engineering</td>\n",
       "      <td>Developer Relations</td>\n",
       "      <td>Mountain View, CA, United States</td>\n",
       "      <td>Work one-on-one with the top Android, iOS, and...</td>\n",
       "      <td>BA/BS degree in Computer Science or equivalent...</td>\n",
       "      <td>Experience as a software developer, architect,...</td>\n",
       "    </tr>\n",
       "    <tr>\n",
       "      <th>4</th>\n",
       "      <td>Google</td>\n",
       "      <td>Program Manager, Audio Visual (AV) Deployments</td>\n",
       "      <td>Program Management</td>\n",
       "      <td>Sunnyvale, CA, United States</td>\n",
       "      <td>Plan requirements with internal customers.\\nPr...</td>\n",
       "      <td>BA/BS degree or equivalent practical experienc...</td>\n",
       "      <td>CTS Certification.\\nExperience in the construc...</td>\n",
       "    </tr>\n",
       "  </tbody>\n",
       "</table>\n",
       "</div>"
      ],
      "text/plain": [
       "  Company                                              Title  \\\n",
       "0  Google                       Google Cloud Program Manager   \n",
       "1  Google  Supplier Development Engineer (SDE), Cable/Con...   \n",
       "2  Google  Data Analyst, Product and Tools Operations, Go...   \n",
       "3  Google            Developer Advocate, Partner Engineering   \n",
       "4  Google     Program Manager, Audio Visual (AV) Deployments   \n",
       "\n",
       "                       Category                          Location  \\\n",
       "0            Program Management                         Singapore   \n",
       "1  Manufacturing & Supply Chain                   Shanghai, China   \n",
       "2           Technical Solutions       New York, NY, United States   \n",
       "3           Developer Relations  Mountain View, CA, United States   \n",
       "4            Program Management      Sunnyvale, CA, United States   \n",
       "\n",
       "                                    Responsibilities  \\\n",
       "0  Shape, shepherd, ship, and show technical prog...   \n",
       "1  Drive cross-functional activities in the suppl...   \n",
       "2  Collect and analyze data to draw insight and i...   \n",
       "3  Work one-on-one with the top Android, iOS, and...   \n",
       "4  Plan requirements with internal customers.\\nPr...   \n",
       "\n",
       "                              Minimum Qualifications  \\\n",
       "0  BA/BS degree or equivalent practical experienc...   \n",
       "1  BS degree in an Engineering discipline or equi...   \n",
       "2  Bachelor’s degree in Business, Economics, Stat...   \n",
       "3  BA/BS degree in Computer Science or equivalent...   \n",
       "4  BA/BS degree or equivalent practical experienc...   \n",
       "\n",
       "                            Preferred Qualifications  \n",
       "0  Experience in the business technology market a...  \n",
       "1  BSEE, BSME or BSIE degree.\\nExperience of usin...  \n",
       "2  Experience partnering or consulting cross-func...  \n",
       "3  Experience as a software developer, architect,...  \n",
       "4  CTS Certification.\\nExperience in the construc...  "
      ]
     },
     "execution_count": 23,
     "metadata": {},
     "output_type": "execute_result"
    }
   ],
   "source": [
    "import seaborn as sns\n",
    "import matplotlib.pyplot as plt\n",
    "import pandas as pd\n",
    "\n",
    "data = pd.read_csv('data/job_skills.csv')\n",
    "\n",
    "data.head()"
   ]
  },
  {
   "cell_type": "code",
   "execution_count": 24,
   "metadata": {},
   "outputs": [
    {
     "name": "stdout",
     "output_type": "stream",
     "text": [
      "<class 'pandas.core.frame.DataFrame'>\n",
      "RangeIndex: 1250 entries, 0 to 1249\n",
      "Data columns (total 7 columns):\n",
      "Company                     1250 non-null object\n",
      "Title                       1250 non-null object\n",
      "Category                    1250 non-null object\n",
      "Location                    1250 non-null object\n",
      "Responsibilities            1235 non-null object\n",
      "Minimum Qualifications      1236 non-null object\n",
      "Preferred Qualifications    1236 non-null object\n",
      "dtypes: object(7)\n",
      "memory usage: 68.4+ KB\n"
     ]
    }
   ],
   "source": [
    "data.info()"
   ]
  },
  {
   "cell_type": "code",
   "execution_count": 25,
   "metadata": {},
   "outputs": [
    {
     "data": {
      "text/html": [
       "<div>\n",
       "<style scoped>\n",
       "    .dataframe tbody tr th:only-of-type {\n",
       "        vertical-align: middle;\n",
       "    }\n",
       "\n",
       "    .dataframe tbody tr th {\n",
       "        vertical-align: top;\n",
       "    }\n",
       "\n",
       "    .dataframe thead th {\n",
       "        text-align: right;\n",
       "    }\n",
       "</style>\n",
       "<table border=\"1\" class=\"dataframe\">\n",
       "  <thead>\n",
       "    <tr style=\"text-align: right;\">\n",
       "      <th></th>\n",
       "      <th>Company</th>\n",
       "      <th>Title</th>\n",
       "      <th>Category</th>\n",
       "      <th>Location</th>\n",
       "      <th>Responsibilities</th>\n",
       "      <th>Minimum Qualifications</th>\n",
       "      <th>Preferred Qualifications</th>\n",
       "    </tr>\n",
       "  </thead>\n",
       "  <tbody>\n",
       "    <tr>\n",
       "      <th>1245</th>\n",
       "      <td>Google</td>\n",
       "      <td>Global Investigator</td>\n",
       "      <td>Real Estate &amp; Workplace Services</td>\n",
       "      <td>Boulder, CO, United States</td>\n",
       "      <td>Develop protocols and practices to assess and ...</td>\n",
       "      <td>BA/BS degree or equivalent practical experienc...</td>\n",
       "      <td>Investigative or Interview certification throu...</td>\n",
       "    </tr>\n",
       "    <tr>\n",
       "      <th>1246</th>\n",
       "      <td>Google</td>\n",
       "      <td>Campus Security Manager</td>\n",
       "      <td>Real Estate &amp; Workplace Services</td>\n",
       "      <td>Boulder, CO, United States</td>\n",
       "      <td>Manage the daily operations of the security ve...</td>\n",
       "      <td>BA/BS degree or equivalent practical experienc...</td>\n",
       "      <td>Master’s degree.\\nProficient in the use of com...</td>\n",
       "    </tr>\n",
       "    <tr>\n",
       "      <th>1247</th>\n",
       "      <td>Google</td>\n",
       "      <td>Facilities Manager</td>\n",
       "      <td>Real Estate &amp; Workplace Services</td>\n",
       "      <td>Xinyi District, Taiwan</td>\n",
       "      <td>Collaborate with functional teams; plan and ma...</td>\n",
       "      <td>BA/BS degree or equivalent practical experienc...</td>\n",
       "      <td>Experience managing outsourced facilities serv...</td>\n",
       "    </tr>\n",
       "    <tr>\n",
       "      <th>1248</th>\n",
       "      <td>Google</td>\n",
       "      <td>Physical Security Manager</td>\n",
       "      <td>Real Estate &amp; Workplace Services</td>\n",
       "      <td>Tel Aviv-Yafo, Israel</td>\n",
       "      <td>Partner closely with and offer guidance and co...</td>\n",
       "      <td>BA/BS degree or equivalent practical experienc...</td>\n",
       "      <td>Experience working on international programs.\\...</td>\n",
       "    </tr>\n",
       "    <tr>\n",
       "      <th>1249</th>\n",
       "      <td>Google</td>\n",
       "      <td>Physical Security Manager</td>\n",
       "      <td>Real Estate &amp; Workplace Services</td>\n",
       "      <td>Wrocław, Poland</td>\n",
       "      <td>Partner closely with and offer guidance and co...</td>\n",
       "      <td>BA/BS degree or equivalent practical experienc...</td>\n",
       "      <td>Experience working on international programs.\\...</td>\n",
       "    </tr>\n",
       "  </tbody>\n",
       "</table>\n",
       "</div>"
      ],
      "text/plain": [
       "     Company                      Title                          Category  \\\n",
       "1245  Google        Global Investigator  Real Estate & Workplace Services   \n",
       "1246  Google    Campus Security Manager  Real Estate & Workplace Services   \n",
       "1247  Google         Facilities Manager  Real Estate & Workplace Services   \n",
       "1248  Google  Physical Security Manager  Real Estate & Workplace Services   \n",
       "1249  Google  Physical Security Manager  Real Estate & Workplace Services   \n",
       "\n",
       "                        Location  \\\n",
       "1245  Boulder, CO, United States   \n",
       "1246  Boulder, CO, United States   \n",
       "1247      Xinyi District, Taiwan   \n",
       "1248       Tel Aviv-Yafo, Israel   \n",
       "1249             Wrocław, Poland   \n",
       "\n",
       "                                       Responsibilities  \\\n",
       "1245  Develop protocols and practices to assess and ...   \n",
       "1246  Manage the daily operations of the security ve...   \n",
       "1247  Collaborate with functional teams; plan and ma...   \n",
       "1248  Partner closely with and offer guidance and co...   \n",
       "1249  Partner closely with and offer guidance and co...   \n",
       "\n",
       "                                 Minimum Qualifications  \\\n",
       "1245  BA/BS degree or equivalent practical experienc...   \n",
       "1246  BA/BS degree or equivalent practical experienc...   \n",
       "1247  BA/BS degree or equivalent practical experienc...   \n",
       "1248  BA/BS degree or equivalent practical experienc...   \n",
       "1249  BA/BS degree or equivalent practical experienc...   \n",
       "\n",
       "                               Preferred Qualifications  \n",
       "1245  Investigative or Interview certification throu...  \n",
       "1246  Master’s degree.\\nProficient in the use of com...  \n",
       "1247  Experience managing outsourced facilities serv...  \n",
       "1248  Experience working on international programs.\\...  \n",
       "1249  Experience working on international programs.\\...  "
      ]
     },
     "execution_count": 25,
     "metadata": {},
     "output_type": "execute_result"
    }
   ],
   "source": [
    "data.tail()"
   ]
  },
  {
   "cell_type": "markdown",
   "metadata": {},
   "source": [
    "## Description ##\n",
    "\n",
    "This data is a job skills CSV from Kaggle that provides ~1200 different Google jobs with:\n",
    "* The title of the job\n",
    "* The Category / Department of the job\n",
    "* The Location of the job\n",
    "* The Responsibilities from the job description\n",
    "* The minimum qualifications from the job description\n",
    "* The preferred qualifications from the job description\n",
    "\n",
    "There appears to be no null values or any data quality issues to control for\n",
    "\n",
    "\n"
   ]
  },
  {
   "cell_type": "code",
   "execution_count": 26,
   "metadata": {},
   "outputs": [
    {
     "name": "stdout",
     "output_type": "stream",
     "text": [
      "{'Program Management': 74, 'Manufacturing & Supply Chain': 16, 'Technical Solutions': 101, 'Developer Relations': 5, 'Hardware Engineering': 26, 'Partnerships': 60, 'Product & Customer Support': 50, 'Software Engineering': 31, 'Data Center & Network': 2, 'Business Strategy': 98, 'Technical Writing': 5, 'Technical Infrastructure': 11, 'IT & Data Management': 5, 'Marketing & Communications': 165, 'Network Engineering': 6, 'Sales & Account Management': 168, 'Sales Operations': 31, 'Finance': 115, 'Legal & Government Relations': 46, 'Administrative': 40, 'User Experience & Design': 84, 'People Operations': 86, 'Real Estate & Workplace Services': 25}\n"
     ]
    },
    {
     "data": {
      "text/plain": [
       "<matplotlib.figure.Figure at 0x114afb240>"
      ]
     },
     "metadata": {},
     "output_type": "display_data"
    }
   ],
   "source": [
    "#Aggregates all job categories ito a dictionary\n",
    "\n",
    "category_dict = {}\n",
    "for category in data[\"Category\"]:\n",
    "    if category in category_dict:\n",
    "        category_dict[category] += 1\n",
    "    else:\n",
    "        category_dict[category] = 1\n",
    "        \n",
    "print(category_dict)"
   ]
  },
  {
   "cell_type": "code",
   "execution_count": 32,
   "metadata": {},
   "outputs": [
    {
     "name": "stdout",
     "output_type": "stream",
     "text": [
      "[('Data Center & Network', 2), ('Developer Relations', 5), ('Technical Writing', 5), ('IT & Data Management', 5), ('Network Engineering', 6), ('Technical Infrastructure', 11), ('Manufacturing & Supply Chain', 16), ('Real Estate & Workplace Services', 25), ('Hardware Engineering', 26), ('Software Engineering', 31), ('Sales Operations', 31), ('Administrative', 40), ('Legal & Government Relations', 46), ('Product & Customer Support', 50), ('Partnerships', 60), ('Program Management', 74), ('User Experience & Design', 84), ('People Operations', 86), ('Business Strategy', 98), ('Technical Solutions', 101), ('Finance', 115), ('Marketing & Communications', 165), ('Sales & Account Management', 168)]\n"
     ]
    }
   ],
   "source": [
    "# Sorts category by # of items\n",
    "\n",
    "import operator         \n",
    "sorted_category = sorted(category_dict.items(), key=operator.itemgetter(1))\n",
    "\n",
    "print(sorted_category)\n",
    "\n"
   ]
  },
  {
   "cell_type": "code",
   "execution_count": 38,
   "metadata": {},
   "outputs": [
    {
     "data": {
      "image/png": "[encoded data removed]",
      "text/plain": [
       "<matplotlib.figure.Figure at 0x1a1ccf5ba8>"
      ]
     },
     "metadata": {},
     "output_type": "display_data"
    }
   ],
   "source": [
    "# This sets the Seaborn style\n",
    "sns.set_style(\"white\")\n",
    "sns.despine()\n",
    "\n",
    "cat_countplot = sns.countplot(x=\"Category\", data=data)\n",
    "\n",
    "cat_countplot_final = plt.xticks(rotation=90)"
   ]
  },
  {
   "cell_type": "markdown",
   "metadata": {},
   "source": [
    "## Results ## \n",
    "\n",
    "From this basic bar chart, we can infer:\n",
    "* The top 3 job departments / categories are Sales & Account Management, Marketing & Communications and Finance. This makes sense given the vast amount of business and geographies Google covers\n",
    "* I suspect a lot of these categories consist of technical roles that are split into different departments, as one would expect Google's main source of job roles to be technically-focused, given it's a technology company"
   ]
  }
 ],
 "metadata": {
  "kernelspec": {
   "display_name": "Python 3",
   "language": "python",
   "name": "python3"
  },
  "language_info": {
   "codemirror_mode": {
    "name": "ipython",
    "version": 3
   },
   "file_extension": ".py",
   "mimetype": "text/x-python",
   "name": "python",
   "nbconvert_exporter": "python",
   "pygments_lexer": "ipython3",
   "version": "3.6.4"
  }
 },
 "nbformat": 4,
 "nbformat_minor": 2
}
