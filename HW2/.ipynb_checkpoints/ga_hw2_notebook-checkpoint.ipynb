{
 "cells": [
  {
   "cell_type": "code",
   "execution_count": null,
   "metadata": {},
   "outputs": [],
   "source": [
    "# ### PROBLEM\n",
    "\n",
    "# Return to your Ames Data.  We have covered a lot of ground today, so let's summarize the things we could do to improve the performance of our original model that compared the Above Ground Living Area to the Logarithm of the Sale Price.\n",
    "# <div class=\"alert alert-info\" role=\"alert\">\n",
    "# 1. Clean data, drop missing values (Done)\n",
    "# 2. Transform data, code variables using either ordinal values or OneHotEncoder methods (Done)\n",
    "# 3. Create more features from existing features (Done)\n",
    "# 4. Split our data into testing and training sets\n",
    "# 5. Normalize quantitative features\n",
    "# 6. Use Regularized Regression methods and Polynomial regression to improve performance of model\n",
    "# </div>\n",
    "# Can you use some or all of these ideas to improve upon your initial model?"
   ]
  },
  {
   "cell_type": "code",
   "execution_count": null,
   "metadata": {},
   "outputs": [],
   "source": [
    "# ### Feature Engineering and Cleaning\n",
    "\n",
    "\n",
    "# We want to return to our Housing example and consider how to use some of `scikitlearn`'s functionality to deal with missing values.  We want to determine the correct way of dealing with these one by one, and use some of what we know about the data to inform these decisions.  If we have objects that are missing values, we can either exclude the observations, or encode the missing values using some kind of numerical value.  \n"
   ]
  },
  {
   "cell_type": "code",
   "execution_count": 2,
   "metadata": {},
   "outputs": [
    {
     "data": {
      "text/html": [
       "<div>\n",
       "<style scoped>\n",
       "    .dataframe tbody tr th:only-of-type {\n",
       "        vertical-align: middle;\n",
       "    }\n",
       "\n",
       "    .dataframe tbody tr th {\n",
       "        vertical-align: top;\n",
       "    }\n",
       "\n",
       "    .dataframe thead th {\n",
       "        text-align: right;\n",
       "    }\n",
       "</style>\n",
       "<table border=\"1\" class=\"dataframe\">\n",
       "  <thead>\n",
       "    <tr style=\"text-align: right;\">\n",
       "      <th></th>\n",
       "      <th>Id</th>\n",
       "      <th>MSSubClass</th>\n",
       "      <th>MSZoning</th>\n",
       "      <th>LotFrontage</th>\n",
       "      <th>LotArea</th>\n",
       "      <th>Street</th>\n",
       "      <th>Alley</th>\n",
       "      <th>LotShape</th>\n",
       "      <th>LandContour</th>\n",
       "      <th>Utilities</th>\n",
       "      <th>...</th>\n",
       "      <th>PoolArea</th>\n",
       "      <th>PoolQC</th>\n",
       "      <th>Fence</th>\n",
       "      <th>MiscFeature</th>\n",
       "      <th>MiscVal</th>\n",
       "      <th>MoSold</th>\n",
       "      <th>YrSold</th>\n",
       "      <th>SaleType</th>\n",
       "      <th>SaleCondition</th>\n",
       "      <th>SalePrice</th>\n",
       "    </tr>\n",
       "  </thead>\n",
       "  <tbody>\n",
       "    <tr>\n",
       "      <th>0</th>\n",
       "      <td>1</td>\n",
       "      <td>60</td>\n",
       "      <td>RL</td>\n",
       "      <td>65.0</td>\n",
       "      <td>8450</td>\n",
       "      <td>Pave</td>\n",
       "      <td>NaN</td>\n",
       "      <td>Reg</td>\n",
       "      <td>Lvl</td>\n",
       "      <td>AllPub</td>\n",
       "      <td>...</td>\n",
       "      <td>0</td>\n",
       "      <td>NaN</td>\n",
       "      <td>NaN</td>\n",
       "      <td>NaN</td>\n",
       "      <td>0</td>\n",
       "      <td>2</td>\n",
       "      <td>2008</td>\n",
       "      <td>WD</td>\n",
       "      <td>Normal</td>\n",
       "      <td>208500</td>\n",
       "    </tr>\n",
       "    <tr>\n",
       "      <th>1</th>\n",
       "      <td>2</td>\n",
       "      <td>20</td>\n",
       "      <td>RL</td>\n",
       "      <td>80.0</td>\n",
       "      <td>9600</td>\n",
       "      <td>Pave</td>\n",
       "      <td>NaN</td>\n",
       "      <td>Reg</td>\n",
       "      <td>Lvl</td>\n",
       "      <td>AllPub</td>\n",
       "      <td>...</td>\n",
       "      <td>0</td>\n",
       "      <td>NaN</td>\n",
       "      <td>NaN</td>\n",
       "      <td>NaN</td>\n",
       "      <td>0</td>\n",
       "      <td>5</td>\n",
       "      <td>2007</td>\n",
       "      <td>WD</td>\n",
       "      <td>Normal</td>\n",
       "      <td>181500</td>\n",
       "    </tr>\n",
       "    <tr>\n",
       "      <th>2</th>\n",
       "      <td>3</td>\n",
       "      <td>60</td>\n",
       "      <td>RL</td>\n",
       "      <td>68.0</td>\n",
       "      <td>11250</td>\n",
       "      <td>Pave</td>\n",
       "      <td>NaN</td>\n",
       "      <td>IR1</td>\n",
       "      <td>Lvl</td>\n",
       "      <td>AllPub</td>\n",
       "      <td>...</td>\n",
       "      <td>0</td>\n",
       "      <td>NaN</td>\n",
       "      <td>NaN</td>\n",
       "      <td>NaN</td>\n",
       "      <td>0</td>\n",
       "      <td>9</td>\n",
       "      <td>2008</td>\n",
       "      <td>WD</td>\n",
       "      <td>Normal</td>\n",
       "      <td>223500</td>\n",
       "    </tr>\n",
       "    <tr>\n",
       "      <th>3</th>\n",
       "      <td>4</td>\n",
       "      <td>70</td>\n",
       "      <td>RL</td>\n",
       "      <td>60.0</td>\n",
       "      <td>9550</td>\n",
       "      <td>Pave</td>\n",
       "      <td>NaN</td>\n",
       "      <td>IR1</td>\n",
       "      <td>Lvl</td>\n",
       "      <td>AllPub</td>\n",
       "      <td>...</td>\n",
       "      <td>0</td>\n",
       "      <td>NaN</td>\n",
       "      <td>NaN</td>\n",
       "      <td>NaN</td>\n",
       "      <td>0</td>\n",
       "      <td>2</td>\n",
       "      <td>2006</td>\n",
       "      <td>WD</td>\n",
       "      <td>Abnorml</td>\n",
       "      <td>140000</td>\n",
       "    </tr>\n",
       "    <tr>\n",
       "      <th>4</th>\n",
       "      <td>5</td>\n",
       "      <td>60</td>\n",
       "      <td>RL</td>\n",
       "      <td>84.0</td>\n",
       "      <td>14260</td>\n",
       "      <td>Pave</td>\n",
       "      <td>NaN</td>\n",
       "      <td>IR1</td>\n",
       "      <td>Lvl</td>\n",
       "      <td>AllPub</td>\n",
       "      <td>...</td>\n",
       "      <td>0</td>\n",
       "      <td>NaN</td>\n",
       "      <td>NaN</td>\n",
       "      <td>NaN</td>\n",
       "      <td>0</td>\n",
       "      <td>12</td>\n",
       "      <td>2008</td>\n",
       "      <td>WD</td>\n",
       "      <td>Normal</td>\n",
       "      <td>250000</td>\n",
       "    </tr>\n",
       "  </tbody>\n",
       "</table>\n",
       "<p>5 rows × 81 columns</p>\n",
       "</div>"
      ],
      "text/plain": [
       "   Id  MSSubClass MSZoning  LotFrontage  LotArea Street Alley LotShape  \\\n",
       "0   1          60       RL         65.0     8450   Pave   NaN      Reg   \n",
       "1   2          20       RL         80.0     9600   Pave   NaN      Reg   \n",
       "2   3          60       RL         68.0    11250   Pave   NaN      IR1   \n",
       "3   4          70       RL         60.0     9550   Pave   NaN      IR1   \n",
       "4   5          60       RL         84.0    14260   Pave   NaN      IR1   \n",
       "\n",
       "  LandContour Utilities    ...     PoolArea PoolQC Fence MiscFeature MiscVal  \\\n",
       "0         Lvl    AllPub    ...            0    NaN   NaN         NaN       0   \n",
       "1         Lvl    AllPub    ...            0    NaN   NaN         NaN       0   \n",
       "2         Lvl    AllPub    ...            0    NaN   NaN         NaN       0   \n",
       "3         Lvl    AllPub    ...            0    NaN   NaN         NaN       0   \n",
       "4         Lvl    AllPub    ...            0    NaN   NaN         NaN       0   \n",
       "\n",
       "  MoSold YrSold  SaleType  SaleCondition  SalePrice  \n",
       "0      2   2008        WD         Normal     208500  \n",
       "1      5   2007        WD         Normal     181500  \n",
       "2      9   2008        WD         Normal     223500  \n",
       "3      2   2006        WD        Abnorml     140000  \n",
       "4     12   2008        WD         Normal     250000  \n",
       "\n",
       "[5 rows x 81 columns]"
      ]
     },
     "execution_count": 2,
     "metadata": {},
     "output_type": "execute_result"
    }
   ],
   "source": [
    "import seaborn as sns\n",
    "import matplotlib.pyplot as plt\n",
    "import pandas as pd\n",
    "import numpy as np\n",
    "import os as os\n",
    "import scipy.stats as st\n",
    "from sklearn.linear_model import LinearRegression\n",
    "from sklearn.pipeline import Pipeline\n",
    "\n",
    "%matplotlib inline\n",
    "\n",
    "ames = pd.read_csv('../data/ames_housing.csv')\n",
    "\n",
    "ames.head()"
   ]
  },
  {
   "cell_type": "code",
   "execution_count": 3,
   "metadata": {},
   "outputs": [
    {
     "name": "stdout",
     "output_type": "stream",
     "text": [
      "<class 'pandas.core.frame.DataFrame'>\n",
      "RangeIndex: 1460 entries, 0 to 1459\n",
      "Data columns (total 81 columns):\n",
      "Id               1460 non-null int64\n",
      "MSSubClass       1460 non-null int64\n",
      "MSZoning         1460 non-null object\n",
      "LotFrontage      1201 non-null float64\n",
      "LotArea          1460 non-null int64\n",
      "Street           1460 non-null object\n",
      "Alley            91 non-null object\n",
      "LotShape         1460 non-null object\n",
      "LandContour      1460 non-null object\n",
      "Utilities        1460 non-null object\n",
      "LotConfig        1460 non-null object\n",
      "LandSlope        1460 non-null object\n",
      "Neighborhood     1460 non-null object\n",
      "Condition1       1460 non-null object\n",
      "Condition2       1460 non-null object\n",
      "BldgType         1460 non-null object\n",
      "HouseStyle       1460 non-null object\n",
      "OverallQual      1460 non-null int64\n",
      "OverallCond      1460 non-null int64\n",
      "YearBuilt        1460 non-null int64\n",
      "YearRemodAdd     1460 non-null int64\n",
      "RoofStyle        1460 non-null object\n",
      "RoofMatl         1460 non-null object\n",
      "Exterior1st      1460 non-null object\n",
      "Exterior2nd      1460 non-null object\n",
      "MasVnrType       1452 non-null object\n",
      "MasVnrArea       1452 non-null float64\n",
      "ExterQual        1460 non-null object\n",
      "ExterCond        1460 non-null object\n",
      "Foundation       1460 non-null object\n",
      "BsmtQual         1423 non-null object\n",
      "BsmtCond         1423 non-null object\n",
      "BsmtExposure     1422 non-null object\n",
      "BsmtFinType1     1423 non-null object\n",
      "BsmtFinSF1       1460 non-null int64\n",
      "BsmtFinType2     1422 non-null object\n",
      "BsmtFinSF2       1460 non-null int64\n",
      "BsmtUnfSF        1460 non-null int64\n",
      "TotalBsmtSF      1460 non-null int64\n",
      "Heating          1460 non-null object\n",
      "HeatingQC        1460 non-null object\n",
      "CentralAir       1460 non-null object\n",
      "Electrical       1459 non-null object\n",
      "1stFlrSF         1460 non-null int64\n",
      "2ndFlrSF         1460 non-null int64\n",
      "LowQualFinSF     1460 non-null int64\n",
      "GrLivArea        1460 non-null int64\n",
      "BsmtFullBath     1460 non-null int64\n",
      "BsmtHalfBath     1460 non-null int64\n",
      "FullBath         1460 non-null int64\n",
      "HalfBath         1460 non-null int64\n",
      "BedroomAbvGr     1460 non-null int64\n",
      "KitchenAbvGr     1460 non-null int64\n",
      "KitchenQual      1460 non-null object\n",
      "TotRmsAbvGrd     1460 non-null int64\n",
      "Functional       1460 non-null object\n",
      "Fireplaces       1460 non-null int64\n",
      "FireplaceQu      770 non-null object\n",
      "GarageType       1379 non-null object\n",
      "GarageYrBlt      1379 non-null float64\n",
      "GarageFinish     1379 non-null object\n",
      "GarageCars       1460 non-null int64\n",
      "GarageArea       1460 non-null int64\n",
      "GarageQual       1379 non-null object\n",
      "GarageCond       1379 non-null object\n",
      "PavedDrive       1460 non-null object\n",
      "WoodDeckSF       1460 non-null int64\n",
      "OpenPorchSF      1460 non-null int64\n",
      "EnclosedPorch    1460 non-null int64\n",
      "3SsnPorch        1460 non-null int64\n",
      "ScreenPorch      1460 non-null int64\n",
      "PoolArea         1460 non-null int64\n",
      "PoolQC           7 non-null object\n",
      "Fence            281 non-null object\n",
      "MiscFeature      54 non-null object\n",
      "MiscVal          1460 non-null int64\n",
      "MoSold           1460 non-null int64\n",
      "YrSold           1460 non-null int64\n",
      "SaleType         1460 non-null object\n",
      "SaleCondition    1460 non-null object\n",
      "SalePrice        1460 non-null int64\n",
      "dtypes: float64(3), int64(35), object(43)\n",
      "memory usage: 924.0+ KB\n"
     ]
    }
   ],
   "source": [
    "ames.info()"
   ]
  },
  {
   "cell_type": "code",
   "execution_count": 4,
   "metadata": {},
   "outputs": [
    {
     "data": {
      "text/plain": [
       "Grvl    50\n",
       "Pave    41\n",
       "Name: Alley, dtype: int64"
      ]
     },
     "execution_count": 4,
     "metadata": {},
     "output_type": "execute_result"
    }
   ],
   "source": [
    "## Cleaning Data\n",
    "\n",
    "# We need to clean the Ames Dataset columsn\n",
    "\n",
    "ames['Alley'].value_counts()"
   ]
  },
  {
   "cell_type": "code",
   "execution_count": 5,
   "metadata": {},
   "outputs": [],
   "source": [
    "ames['Alley'] = ames['Alley'].fillna(\"None\")"
   ]
  },
  {
   "cell_type": "code",
   "execution_count": 6,
   "metadata": {},
   "outputs": [
    {
     "data": {
      "text/plain": [
       "None    1369\n",
       "Grvl      50\n",
       "Pave      41\n",
       "Name: Alley, dtype: int64"
      ]
     },
     "execution_count": 6,
     "metadata": {},
     "output_type": "execute_result"
    }
   ],
   "source": [
    "ames['Alley'].value_counts()"
   ]
  },
  {
   "cell_type": "code",
   "execution_count": 7,
   "metadata": {},
   "outputs": [
    {
     "data": {
      "text/plain": [
       "Gd    380\n",
       "TA    313\n",
       "Fa     33\n",
       "Ex     24\n",
       "Po     20\n",
       "Name: FireplaceQu, dtype: int64"
      ]
     },
     "execution_count": 7,
     "metadata": {},
     "output_type": "execute_result"
    }
   ],
   "source": [
    "ames['FireplaceQu'].value_counts()"
   ]
  },
  {
   "cell_type": "code",
   "execution_count": 8,
   "metadata": {},
   "outputs": [],
   "source": [
    "ames['FireplaceQu'] = ames['FireplaceQu'].fillna(\"None\")"
   ]
  },
  {
   "cell_type": "code",
   "execution_count": 9,
   "metadata": {},
   "outputs": [
    {
     "data": {
      "text/plain": [
       "Shed    49\n",
       "Gar2     2\n",
       "Othr     2\n",
       "TenC     1\n",
       "Name: MiscFeature, dtype: int64"
      ]
     },
     "execution_count": 9,
     "metadata": {},
     "output_type": "execute_result"
    }
   ],
   "source": [
    "ames['MiscFeature'].value_counts()"
   ]
  },
  {
   "cell_type": "code",
   "execution_count": 10,
   "metadata": {},
   "outputs": [
    {
     "data": {
      "text/plain": [
       "6     253\n",
       "7     234\n",
       "5     204\n",
       "4     141\n",
       "8     122\n",
       "3     106\n",
       "10     89\n",
       "11     79\n",
       "9      63\n",
       "12     59\n",
       "1      58\n",
       "2      52\n",
       "Name: MoSold, dtype: int64"
      ]
     },
     "execution_count": 10,
     "metadata": {},
     "output_type": "execute_result"
    }
   ],
   "source": [
    "ames['MoSold'].value_counts()"
   ]
  },
  {
   "cell_type": "markdown",
   "metadata": {},
   "source": [
    "Note the existence of a number of ordinal data points.  We can encode these to follow the data dictionary. https://ww2.amstat.org/publications/jse/v19n3/decock/datadocumentation.txt"
   ]
  },
  {
   "cell_type": "code",
   "execution_count": 11,
   "metadata": {},
   "outputs": [],
   "source": [
    "ames = ames.replace({\"BsmtCond\": {\"No\": 0, \"Po\": 1, \"Fa\": 2, \"TA\": 3, \"Gd\": 4, \"Ex\": 5}})"
   ]
  },
  {
   "cell_type": "code",
   "execution_count": 12,
   "metadata": {},
   "outputs": [
    {
     "data": {
      "text/plain": [
       "3.0    1311\n",
       "4.0      65\n",
       "2.0      45\n",
       "1.0       2\n",
       "Name: BsmtCond, dtype: int64"
      ]
     },
     "execution_count": 12,
     "metadata": {},
     "output_type": "execute_result"
    }
   ],
   "source": [
    "ames['BsmtCond'].value_counts()"
   ]
  },
  {
   "cell_type": "code",
   "execution_count": 13,
   "metadata": {},
   "outputs": [],
   "source": [
    "ames = ames.replace({\"BsmtQual\" : {\"No\" : 0, \"Po\" : 1, \"Fa\" : 2, \"TA\": 3, \"Gd\" : 4, \"Ex\" : 5}})"
   ]
  },
  {
   "cell_type": "code",
   "execution_count": 14,
   "metadata": {},
   "outputs": [
    {
     "data": {
      "text/plain": [
       "3.0    649\n",
       "4.0    618\n",
       "5.0    121\n",
       "2.0     35\n",
       "Name: BsmtQual, dtype: int64"
      ]
     },
     "execution_count": 14,
     "metadata": {},
     "output_type": "execute_result"
    }
   ],
   "source": [
    "ames['BsmtQual'].value_counts()"
   ]
  },
  {
   "cell_type": "markdown",
   "metadata": {},
   "source": [
    "**PROBLEMS**\n",
    "\n",
    "Continue to code a few more columns and make sure to replace any `na` values in at least:\n",
    "\n",
    "- `OverallQual` (Nothing done. Convert to 5 scale?)\n",
    "- `OverallCond` (Nothing done. Convert to 5 scale?)\n",
    "- `GarageQual` (DONE)\n",
    "- `GarageCond` (DONE)\n",
    "- `PoolArea` (DONE)\n",
    "- `PoolQC` (DONE)"
   ]
  },
  {
   "cell_type": "code",
   "execution_count": 15,
   "metadata": {},
   "outputs": [
    {
     "data": {
      "text/plain": [
       "Gd    3\n",
       "Fa    2\n",
       "Ex    2\n",
       "Name: PoolQC, dtype: int64"
      ]
     },
     "execution_count": 15,
     "metadata": {},
     "output_type": "execute_result"
    }
   ],
   "source": [
    "ames['PoolQC'].value_counts()"
   ]
  },
  {
   "cell_type": "code",
   "execution_count": 16,
   "metadata": {},
   "outputs": [],
   "source": [
    "ames = ames.replace({\"GarageQual\" : {\"Po\" : 1, \"Fa\" : 2, \"TA\": 3, \"Gd\" : 4, \"Ex\" : 5}})"
   ]
  },
  {
   "cell_type": "code",
   "execution_count": 17,
   "metadata": {},
   "outputs": [
    {
     "data": {
      "text/plain": [
       "3.0    1311\n",
       "2.0      48\n",
       "4.0      14\n",
       "1.0       3\n",
       "5.0       3\n",
       "Name: GarageQual, dtype: int64"
      ]
     },
     "execution_count": 17,
     "metadata": {},
     "output_type": "execute_result"
    }
   ],
   "source": [
    "ames['GarageQual'].value_counts()"
   ]
  },
  {
   "cell_type": "code",
   "execution_count": 18,
   "metadata": {},
   "outputs": [],
   "source": [
    "ames = ames.replace({\"GarageCond\" : {\"Po\" : 1, \"Fa\" : 2, \"TA\": 3, \"Gd\" : 4, \"Ex\" : 5}})"
   ]
  },
  {
   "cell_type": "code",
   "execution_count": 19,
   "metadata": {},
   "outputs": [
    {
     "data": {
      "text/plain": [
       "3.0    1326\n",
       "2.0      35\n",
       "4.0       9\n",
       "1.0       7\n",
       "5.0       2\n",
       "Name: GarageCond, dtype: int64"
      ]
     },
     "execution_count": 19,
     "metadata": {},
     "output_type": "execute_result"
    }
   ],
   "source": [
    "ames['GarageCond'].value_counts()"
   ]
  },
  {
   "cell_type": "code",
   "execution_count": 20,
   "metadata": {},
   "outputs": [],
   "source": [
    "ames = ames.replace({\"PoolArea\" : {738 : 1, 648 : 1, 576: 1, 555 : 1, 519 : 1, 512 : 1, 480 : 1}})"
   ]
  },
  {
   "cell_type": "code",
   "execution_count": 21,
   "metadata": {},
   "outputs": [
    {
     "data": {
      "text/plain": [
       "0    1453\n",
       "1       7\n",
       "Name: PoolArea, dtype: int64"
      ]
     },
     "execution_count": 21,
     "metadata": {},
     "output_type": "execute_result"
    }
   ],
   "source": [
    "ames['PoolArea'].value_counts()"
   ]
  },
  {
   "cell_type": "code",
   "execution_count": 22,
   "metadata": {},
   "outputs": [],
   "source": [
    "ames = ames.replace({\"PoolQC\" : {\"Po\" : 1, \"Fa\" : 2, \"TA\": 3, \"Gd\" : 4, \"Ex\" : 5}})\n",
    "\n",
    "ames[\"PoolQC\"].fillna(0, inplace=True)"
   ]
  },
  {
   "cell_type": "code",
   "execution_count": 23,
   "metadata": {},
   "outputs": [
    {
     "data": {
      "text/plain": [
       "0.0    1453\n",
       "4.0       3\n",
       "2.0       2\n",
       "5.0       2\n",
       "Name: PoolQC, dtype: int64"
      ]
     },
     "execution_count": 23,
     "metadata": {},
     "output_type": "execute_result"
    }
   ],
   "source": [
    "ames['PoolQC'].value_counts()"
   ]
  },
  {
   "cell_type": "markdown",
   "metadata": {},
   "source": [
    "**Deal With NaNs**\n",
    "\n",
    "Replace any `na` values in the following columns if able:\n",
    "\n",
    "- `LotFrontage` (Done)\n",
    "- `MasVnrType` (Done)\n",
    "- `MasVnrArea` (Done)\n",
    "- `BsmtQual` (Done)\n",
    "- `BsmtCond` (Done)\n",
    "- `BsmtExposure` (Done)\n",
    "- `BsmtFinType1` (Done)\n",
    "- `BsmtFinType2` (Done)\n",
    "- `Electrical` (Done)\n",
    "- `GarageType` (Done)\n",
    "- `GarageYrBlt` (Nothing done. Convert to 5 scale?)\n",
    "- `GarageFinish` (Done)\n",
    "- `Fence` (Done)\n",
    "- `MiscFeature`"
   ]
  },
  {
   "cell_type": "code",
   "execution_count": 24,
   "metadata": {},
   "outputs": [],
   "source": [
    "ames['LotFrontage'].value_counts()\n",
    "ames[\"LotFrontage\"].fillna(0, inplace=True)"
   ]
  },
  {
   "cell_type": "code",
   "execution_count": 25,
   "metadata": {},
   "outputs": [],
   "source": [
    "ames['MasVnrType'].value_counts()\n",
    "ames[\"MasVnrType\"].fillna(\"None\", inplace=True)"
   ]
  },
  {
   "cell_type": "code",
   "execution_count": 26,
   "metadata": {},
   "outputs": [],
   "source": [
    "ames['MasVnrArea'].value_counts()\n",
    "ames[\"MasVnrArea\"].fillna(0, inplace=True)"
   ]
  },
  {
   "cell_type": "code",
   "execution_count": 27,
   "metadata": {},
   "outputs": [
    {
     "data": {
      "text/plain": [
       "3.0    649\n",
       "4.0    618\n",
       "5.0    121\n",
       "0.0     37\n",
       "2.0     35\n",
       "Name: BsmtQual, dtype: int64"
      ]
     },
     "execution_count": 27,
     "metadata": {},
     "output_type": "execute_result"
    }
   ],
   "source": [
    "ames['BsmtQual'].value_counts()\n",
    "ames[\"BsmtQual\"].fillna(0, inplace=True)\n",
    "ames['BsmtQual'].value_counts()\n"
   ]
  },
  {
   "cell_type": "code",
   "execution_count": 28,
   "metadata": {},
   "outputs": [
    {
     "data": {
      "text/plain": [
       "3.0    1311\n",
       "4.0      65\n",
       "2.0      45\n",
       "0.0      37\n",
       "1.0       2\n",
       "Name: BsmtCond, dtype: int64"
      ]
     },
     "execution_count": 28,
     "metadata": {},
     "output_type": "execute_result"
    }
   ],
   "source": [
    "ames['BsmtCond'].value_counts()\n",
    "ames[\"BsmtCond\"].fillna(0, inplace=True)\n",
    "ames['BsmtCond'].value_counts()"
   ]
  },
  {
   "cell_type": "code",
   "execution_count": 29,
   "metadata": {},
   "outputs": [
    {
     "data": {
      "text/plain": [
       "1    953\n",
       "3    221\n",
       "4    134\n",
       "2    114\n",
       "0     38\n",
       "Name: BsmtExposure, dtype: int64"
      ]
     },
     "execution_count": 29,
     "metadata": {},
     "output_type": "execute_result"
    }
   ],
   "source": [
    "ames['BsmtExposure'].value_counts()\n",
    "ames[\"BsmtExposure\"].fillna(0, inplace=True)\n",
    "ames = ames.replace({\"BsmtExposure\" : {\"No\" : 1, \"Mn\" : 2, \"Av\": 3, \"Gd\" : 4}})\n",
    "ames['BsmtExposure'].value_counts()\n"
   ]
  },
  {
   "cell_type": "code",
   "execution_count": 30,
   "metadata": {},
   "outputs": [
    {
     "data": {
      "text/plain": [
       "0    467\n",
       "4    418\n",
       "3    353\n",
       "2    148\n",
       "1     74\n",
       "Name: BsmtFinType1, dtype: int64"
      ]
     },
     "execution_count": 30,
     "metadata": {},
     "output_type": "execute_result"
    }
   ],
   "source": [
    "ames['BsmtFinType1'].value_counts()\n",
    "ames[\"BsmtFinType1\"].fillna(0, inplace=True)\n",
    "ames = ames.replace({\"BsmtFinType1\" : {\"Unf\" : 0, \"LwQ\" : 1, \"BLQ\": 2, \"Rec\" : 3, \"ALQ\" : 3, \"GLQ\" : 4}})\n",
    "ames['BsmtFinType1'].value_counts()"
   ]
  },
  {
   "cell_type": "code",
   "execution_count": 31,
   "metadata": {},
   "outputs": [
    {
     "data": {
      "text/plain": [
       "0    1294\n",
       "3      73\n",
       "1      46\n",
       "2      33\n",
       "4      14\n",
       "Name: BsmtFinType2, dtype: int64"
      ]
     },
     "execution_count": 31,
     "metadata": {},
     "output_type": "execute_result"
    }
   ],
   "source": [
    "ames['BsmtFinType2'].value_counts()\n",
    "ames[\"BsmtFinType2\"].fillna(0, inplace=True)\n",
    "ames = ames.replace({\"BsmtFinType2\" : {\"Unf\" : 0, \"LwQ\" : 1, \"BLQ\": 2, \"Rec\" : 3, \"ALQ\" : 3, \"GLQ\" : 4}})\n",
    "ames['BsmtFinType2'].value_counts()"
   ]
  },
  {
   "cell_type": "code",
   "execution_count": 32,
   "metadata": {},
   "outputs": [
    {
     "data": {
      "text/plain": [
       "4    1334\n",
       "3      94\n",
       "2      27\n",
       "1       3\n",
       "0       2\n",
       "Name: Electrical, dtype: int64"
      ]
     },
     "execution_count": 32,
     "metadata": {},
     "output_type": "execute_result"
    }
   ],
   "source": [
    "ames['Electrical'].value_counts()\n",
    "ames[\"Electrical\"].fillna(0, inplace=True)\n",
    "ames = ames.replace({\"Electrical\" : {\"Mix\": 0, \"FuseP\" : 1, \"FuseF\" : 2, \"FuseA\" : 3, \"SBrkr\" : 4}})\n",
    "ames['Electrical'].value_counts()\n"
   ]
  },
  {
   "cell_type": "code",
   "execution_count": 33,
   "metadata": {},
   "outputs": [
    {
     "data": {
      "text/plain": [
       "3    870\n",
       "0    468\n",
       "4     94\n",
       "2     19\n",
       "1      9\n",
       "Name: GarageType, dtype: int64"
      ]
     },
     "execution_count": 33,
     "metadata": {},
     "output_type": "execute_result"
    }
   ],
   "source": [
    "ames[\"GarageType\"].value_counts()\n",
    "ames[\"GarageType\"].fillna(0, inplace=True)\n",
    "ames = ames.replace({\"GarageType\" : {\"Detchd\" : 0, \"CarPort\" : 1, \"Basment\": 2, \"Attchd\" : 3, \"2Types\" : 4, \"BuiltIn\" : 4}})\n",
    "ames[\"GarageType\"].value_counts()\n"
   ]
  },
  {
   "cell_type": "code",
   "execution_count": 34,
   "metadata": {},
   "outputs": [
    {
     "data": {
      "text/plain": [
       "1    605\n",
       "2    422\n",
       "3    352\n",
       "0     81\n",
       "Name: GarageFinish, dtype: int64"
      ]
     },
     "execution_count": 34,
     "metadata": {},
     "output_type": "execute_result"
    }
   ],
   "source": [
    "ames[\"GarageFinish\"].value_counts()\n",
    "ames[\"GarageFinish\"].fillna(0, inplace=True)\n",
    "ames = ames.replace({\"GarageFinish\" : {\"Unf\" : 1, \"RFn\" : 2, \"Fin\": 3}})\n",
    "ames[\"GarageFinish\"].value_counts()\n"
   ]
  },
  {
   "cell_type": "code",
   "execution_count": 35,
   "metadata": {},
   "outputs": [
    {
     "data": {
      "text/plain": [
       "0    1179\n",
       "2     157\n",
       "4      59\n",
       "3      54\n",
       "1      11\n",
       "Name: Fence, dtype: int64"
      ]
     },
     "execution_count": 35,
     "metadata": {},
     "output_type": "execute_result"
    }
   ],
   "source": [
    "ames[\"Fence\"].value_counts()\n",
    "ames[\"Fence\"].fillna(0, inplace=True)\n",
    "ames = ames.replace({\"Fence\" : {\"MnWw\" : 1, \"MnPrv\" : 2, \"GdWo\": 3, \"GdPrv\": 4}})\n",
    "ames[\"Fence\"].value_counts()\n",
    "\n"
   ]
  },
  {
   "cell_type": "code",
   "execution_count": 36,
   "metadata": {},
   "outputs": [],
   "source": [
    "ames[\"MiscFeature\"].value_counts()\n",
    "ames[\"MiscFeature\"].fillna(0, inplace=True)\n",
    "ames = ames.replace({\"MiscFeature\" : {\"Othr\" : 1, \"Shed\" : 2, \"Gar2\": 3, \"TenC\": 4}})       \n"
   ]
  },
  {
   "cell_type": "code",
   "execution_count": 37,
   "metadata": {},
   "outputs": [],
   "source": [
    "ames = ames.replace({\"BsmtQual\" : {1: \"isntgood\"}})"
   ]
  },
  {
   "cell_type": "code",
   "execution_count": 38,
   "metadata": {},
   "outputs": [],
   "source": [
    "ames[\"ExterQual\"].value_counts()\n",
    "ames[\"ExterCond\"].value_counts()\n",
    "ames = ames.replace({\"ExterQual\" : {\"Po\" : 1, \"Fa\" : 2, \"TA\": 3, \"Gd\": 4, \"Ex\": 5}})       \n",
    "ames = ames.replace({\"ExterCond\" : {\"Po\" : 1, \"Fa\" : 2, \"TA\": 3, \"Gd\": 4, \"Ex\": 5}})       \n"
   ]
  },
  {
   "cell_type": "code",
   "execution_count": 39,
   "metadata": {},
   "outputs": [],
   "source": [
    "ames[\"FireplaceQu\"].value_counts()\n",
    "ames = ames.replace({\"FireplaceQu\" : {\"None\" : 0, \"Po\" : 1, \"Fa\": 2, \"TA\": 3, \"Gd\": 4, \"Ex\": 5}})   \n",
    "\n"
   ]
  },
  {
   "cell_type": "code",
   "execution_count": 40,
   "metadata": {},
   "outputs": [],
   "source": [
    "ames[\"GarageCond\"].fillna(0, inplace=True)\n",
    "ames[\"GarageQual\"].fillna(0, inplace=True)\n"
   ]
  },
  {
   "cell_type": "markdown",
   "metadata": {},
   "source": [
    "### Adding New Features\n",
    "\n",
    "We can create many new features to help improve our models performance.  For example, any of the measures that have multiple categories could be combined.  Take `Overall`, `Garage`, and `Pool` for example.  We can create combinations of the subcolumns as follows."
   ]
  },
  {
   "cell_type": "code",
   "execution_count": 41,
   "metadata": {},
   "outputs": [],
   "source": [
    "ames['BasementOverall'] = ames['BsmtCond'].astype('int') * ames['BsmtQual'].astype('int')\n",
    "ames[\"GarageOverall\"] = ames[\"GarageCond\"].astype(\"int\") * ames[\"GarageQual\"].astype(\"int\")\n",
    "ames[\"PoolOverall\"] = ames[\"PoolQC\"].astype(\"int\") * ames[\"PoolArea\"].astype(\"int\")\n",
    "ames[\"OverallQualityScore\"] = ames[\"OverallQual\"] * ames[\"OverallCond\"]\n",
    "ames[\"ExternalOverall\"] = ames[\"ExterQual\"] * ames[\"ExterCond\"]\n",
    "ames[\"FireplaceOverall\"] = ames[\"Fireplaces\"] * ames[\"FireplaceQu\"]"
   ]
  },
  {
   "cell_type": "code",
   "execution_count": 42,
   "metadata": {},
   "outputs": [
    {
     "data": {
      "text/plain": [
       "Index(['Id', 'MSSubClass', 'LotArea', 'OverallQual', 'OverallCond',\n",
       "       'YearBuilt', 'YearRemodAdd', 'ExterQual', 'ExterCond', 'BsmtExposure',\n",
       "       'BsmtFinType1', 'BsmtFinSF1', 'BsmtFinType2', 'BsmtFinSF2', 'BsmtUnfSF',\n",
       "       'TotalBsmtSF', 'Electrical', '1stFlrSF', '2ndFlrSF', 'LowQualFinSF',\n",
       "       'GrLivArea', 'BsmtFullBath', 'BsmtHalfBath', 'FullBath', 'HalfBath',\n",
       "       'BedroomAbvGr', 'KitchenAbvGr', 'TotRmsAbvGrd', 'Fireplaces',\n",
       "       'FireplaceQu', 'GarageType', 'GarageFinish', 'GarageCars', 'GarageArea',\n",
       "       'WoodDeckSF', 'OpenPorchSF', 'EnclosedPorch', '3SsnPorch',\n",
       "       'ScreenPorch', 'PoolArea', 'Fence', 'MiscFeature', 'MiscVal', 'MoSold',\n",
       "       'YrSold', 'SalePrice', 'BasementOverall', 'GarageOverall',\n",
       "       'PoolOverall', 'OverallQualityScore', 'ExternalOverall',\n",
       "       'FireplaceOverall'],\n",
       "      dtype='object')"
      ]
     },
     "execution_count": 42,
     "metadata": {},
     "output_type": "execute_result"
    }
   ],
   "source": [
    "ames_numbers = ames.select_dtypes(include = \"int64\")\n",
    "ames_numbers.columns\n"
   ]
  },
  {
   "cell_type": "code",
   "execution_count": 43,
   "metadata": {},
   "outputs": [],
   "source": [
    "X = ames_numbers.drop(\"SalePrice\", axis=1)\n",
    "y = ames_numbers.SalePrice\n"
   ]
  },
  {
   "cell_type": "code",
   "execution_count": 44,
   "metadata": {},
   "outputs": [
    {
     "name": "stdout",
     "output_type": "stream",
     "text": [
      "Mean Squared Error is: 1084237865.343484 and Mean Squared Root Error is: 32927.767390812936\n"
     ]
    }
   ],
   "source": [
    "# This creates a simple model based on all \"int64\" \n",
    "# columns from the dataset as the X variable and the Sale Price as Y variable\n",
    "\n",
    "lr = LinearRegression()\n",
    "lr.fit(X, y)\n",
    "\n",
    "pred = lr.predict(X)\n",
    "\n",
    "from sklearn.metrics import mean_squared_error\n",
    "\n",
    "mse_1 = mean_squared_error(pred, y)\n",
    "\n",
    "msre_1 = np.sqrt(mean_squared_error(pred, y))\n",
    "\n",
    "print(\"Mean Squared Error is: {} and Mean Squared Root Error is: {}\".format(mse_1, msre_1))"
   ]
  },
  {
   "cell_type": "code",
   "execution_count": 45,
   "metadata": {},
   "outputs": [
    {
     "data": {
      "image/png": "[encoded data removed]",
      "text/plain": [
       "<matplotlib.figure.Figure at 0x1177db438>"
      ]
     },
     "metadata": {},
     "output_type": "display_data"
    }
   ],
   "source": [
    "from pandas.plotting import scatter_matrix\n",
    "scatter_matrix(ames);"
   ]
  },
  {
   "cell_type": "code",
   "execution_count": 46,
   "metadata": {},
   "outputs": [
    {
     "name": "stdout",
     "output_type": "stream",
     "text": [
      "                           Id  MSSubClass  LotFrontage   LotArea  OverallQual  \\\n",
      "Id                   1.000000    0.011156    -0.019761 -0.033226    -0.028365   \n",
      "MSSubClass           0.011156    1.000000    -0.215023 -0.139781     0.032628   \n",
      "LotFrontage         -0.019761   -0.215023     1.000000  0.100739     0.176561   \n",
      "LotArea             -0.033226   -0.139781     0.100739  1.000000     0.105806   \n",
      "OverallQual         -0.028365    0.032628     0.176561  0.105806     1.000000   \n",
      "OverallCond          0.012609   -0.059316    -0.053457 -0.005636    -0.091932   \n",
      "YearBuilt           -0.012713    0.027850     0.036853  0.014228     0.572323   \n",
      "YearRemodAdd        -0.021998    0.040581     0.078686  0.013788     0.550684   \n",
      "MasVnrArea          -0.051071    0.023573     0.105010  0.103321     0.407252   \n",
      "ExterQual            0.005039    0.016178     0.127864  0.055570     0.726278   \n",
      "ExterCond            0.029860   -0.064686    -0.046807  0.014732     0.013953   \n",
      "BsmtQual            -0.028425    0.051122     0.092717  0.072336     0.629379   \n",
      "BsmtCond             0.010085   -0.015839     0.015334  0.031349     0.268759   \n",
      "BsmtExposure         0.017320    0.051150     0.070921  0.228830     0.296517   \n",
      "BsmtFinType1        -0.019760    0.012777    -0.009822  0.064254     0.198634   \n",
      "BsmtFinSF1          -0.005024   -0.069836     0.076670  0.214103     0.239666   \n",
      "BsmtFinType2        -0.007346   -0.032305    -0.024841  0.103957    -0.093306   \n",
      "BsmtFinSF2          -0.005968   -0.065649    -0.009312  0.111170    -0.059119   \n",
      "BsmtUnfSF           -0.007940   -0.140759     0.160829 -0.002618     0.308159   \n",
      "TotalBsmtSF         -0.015415   -0.238518     0.238274  0.260833     0.537808   \n",
      "Electrical           0.044568    0.022782     0.000817  0.046455     0.240019   \n",
      "1stFlrSF             0.010496   -0.251758     0.245181  0.299475     0.476224   \n",
      "2ndFlrSF             0.005590    0.307886     0.042549  0.050986     0.295493   \n",
      "LowQualFinSF        -0.044230    0.046474     0.049981  0.004779    -0.030429   \n",
      "GrLivArea            0.008273    0.074853     0.220347  0.263116     0.593007   \n",
      "BsmtFullBath         0.002289    0.003491     0.010514  0.158155     0.111098   \n",
      "BsmtHalfBath        -0.020155   -0.002333    -0.027856  0.048046    -0.040150   \n",
      "FullBath             0.005587    0.131608     0.120548  0.126031     0.550600   \n",
      "HalfBath             0.006784    0.177354    -0.012952  0.014259     0.273458   \n",
      "BedroomAbvGr         0.037719   -0.023438     0.144494  0.119690     0.101676   \n",
      "KitchenAbvGr         0.002951    0.281721     0.034425 -0.017784    -0.183882   \n",
      "TotRmsAbvGrd         0.027239    0.040380     0.221396  0.190015     0.427452   \n",
      "Fireplaces          -0.019772   -0.045569     0.044018  0.271364     0.396765   \n",
      "FireplaceQu          0.001760   -0.039201     0.084423  0.185332     0.490788   \n",
      "GarageType          -0.001256   -0.090378     0.083416  0.156135     0.471469   \n",
      "GarageYrBlt          0.000072    0.085072     0.044045 -0.024947     0.547766   \n",
      "GarageFinish         0.013821   -0.033077     0.092363  0.124756     0.556863   \n",
      "GarageCars           0.016570   -0.040110     0.165229  0.154871     0.600671   \n",
      "GarageArea           0.017634   -0.098672     0.201473  0.180403     0.562022   \n",
      "GarageQual           0.013912   -0.072946     0.013147  0.079313     0.292399   \n",
      "GarageCond           0.008607   -0.089846     0.013047  0.076097     0.286955   \n",
      "WoodDeckSF          -0.029643   -0.012579    -0.016780  0.171698     0.238923   \n",
      "OpenPorchSF         -0.000477   -0.006100     0.069605  0.084774     0.308819   \n",
      "EnclosedPorch        0.002889   -0.012037     0.027366 -0.018340    -0.113937   \n",
      "3SsnPorch           -0.046635   -0.043825     0.023499  0.020423     0.030371   \n",
      "ScreenPorch          0.001330   -0.026030     0.022969  0.043160     0.064886   \n",
      "PoolArea             0.055511    0.008610     0.136673  0.087166     0.073907   \n",
      "PoolQC               0.047655    0.014198     0.150254  0.091727     0.083690   \n",
      "Fence                0.000399   -0.086360     0.009611 -0.036031    -0.145442   \n",
      "MiscFeature         -0.031540   -0.045049    -0.038101  0.109395    -0.087233   \n",
      "MiscVal             -0.006242   -0.007683    -0.059606  0.038068    -0.031406   \n",
      "MoSold               0.021172   -0.013585     0.018942  0.001205     0.070815   \n",
      "YrSold               0.000712   -0.021407    -0.012094 -0.014261    -0.027347   \n",
      "SalePrice           -0.021917   -0.084284     0.209624  0.263843     0.790982   \n",
      "BasementOverall     -0.020870    0.044731     0.087495  0.072298     0.615126   \n",
      "GarageOverall        0.007794   -0.073792     0.010002  0.075573     0.293340   \n",
      "PoolOverall          0.047655    0.014198     0.150254  0.091727     0.083690   \n",
      "OverallQualityScore -0.015879   -0.011088     0.094782  0.085616     0.717167   \n",
      "ExternalOverall      0.019353   -0.019898     0.080236  0.054967     0.605154   \n",
      "FireplaceOverall    -0.013259   -0.051434     0.076960  0.269587     0.443233   \n",
      "\n",
      "                     OverallCond  YearBuilt  YearRemodAdd  MasVnrArea  \\\n",
      "Id                      0.012609  -0.012713     -0.021998   -0.051071   \n",
      "MSSubClass             -0.059316   0.027850      0.040581    0.023573   \n",
      "LotFrontage            -0.053457   0.036853      0.078686    0.105010   \n",
      "LotArea                -0.005636   0.014228      0.013788    0.103321   \n",
      "OverallQual            -0.091932   0.572323      0.550684    0.407252   \n",
      "OverallCond             1.000000  -0.375983      0.073741   -0.125694   \n",
      "YearBuilt              -0.375983   1.000000      0.592855    0.311600   \n",
      "YearRemodAdd            0.073741   0.592855      1.000000    0.176529   \n",
      "MasVnrArea             -0.125694   0.311600      0.176529    1.000000   \n",
      "ExterQual              -0.138942   0.598160      0.587318    0.345329   \n",
      "ExterCond               0.389163  -0.103925      0.074745   -0.018065   \n",
      "BsmtQual               -0.164996   0.602797      0.515013    0.277490   \n",
      "BsmtCond                0.132361   0.183115      0.188027    0.073210   \n",
      "BsmtExposure           -0.056732   0.289623      0.221405    0.175111   \n",
      "BsmtFinType1           -0.016533   0.311630      0.175382    0.187348   \n",
      "BsmtFinSF1             -0.046231   0.249503      0.128451    0.261256   \n",
      "BsmtFinType2            0.086223  -0.063531     -0.079754   -0.055465   \n",
      "BsmtFinSF2              0.040229  -0.049107     -0.067759   -0.071330   \n",
      "BsmtUnfSF              -0.136841   0.149040      0.181133    0.113862   \n",
      "TotalBsmtSF            -0.171098   0.391452      0.291066    0.360067   \n",
      "Electrical              0.098127   0.304246      0.321577    0.097621   \n",
      "1stFlrSF               -0.144203   0.281986      0.240379    0.339850   \n",
      "2ndFlrSF                0.028942   0.010308      0.140024    0.173800   \n",
      "LowQualFinSF            0.025494  -0.183784     -0.062419   -0.068628   \n",
      "GrLivArea              -0.079686   0.199010      0.287389    0.388052   \n",
      "BsmtFullBath           -0.054942   0.187599      0.119470    0.083010   \n",
      "BsmtHalfBath            0.117821  -0.038162     -0.012337    0.027403   \n",
      "FullBath               -0.194149   0.468271      0.439046    0.272999   \n",
      "HalfBath               -0.060769   0.242656      0.183331    0.199108   \n",
      "BedroomAbvGr            0.012980  -0.070651     -0.040581    0.102775   \n",
      "KitchenAbvGr           -0.087001  -0.174800     -0.149598   -0.038450   \n",
      "TotRmsAbvGrd           -0.057583   0.095589      0.191740    0.279568   \n",
      "Fireplaces             -0.023820   0.147716      0.112581    0.247015   \n",
      "FireplaceQu            -0.056899   0.224545      0.196103    0.274950   \n",
      "GarageType             -0.169372   0.590480      0.373154    0.244465   \n",
      "GarageYrBlt            -0.324297   0.825667      0.642277    0.248546   \n",
      "GarageFinish           -0.171245   0.595781      0.444541    0.275921   \n",
      "GarageCars             -0.185758   0.537850      0.420622    0.361945   \n",
      "GarageArea             -0.151521   0.478954      0.371600    0.370884   \n",
      "GarageQual              0.019060   0.287054      0.148925    0.134947   \n",
      "GarageCond              0.016706   0.291096      0.144088    0.133749   \n",
      "WoodDeckSF             -0.003334   0.224880      0.205726    0.159991   \n",
      "OpenPorchSF            -0.032589   0.188686      0.226298    0.122528   \n",
      "EnclosedPorch           0.070356  -0.387268     -0.193919   -0.109907   \n",
      "3SsnPorch               0.025504   0.031355      0.045286    0.019144   \n",
      "ScreenPorch             0.054811  -0.050364     -0.038740    0.062248   \n",
      "PoolArea               -0.009158   0.005953      0.009580    0.019603   \n",
      "PoolQC                 -0.013646   0.002113      0.010059    0.015073   \n",
      "Fence                   0.155289  -0.201083     -0.139732   -0.080825   \n",
      "MiscFeature             0.071902  -0.071947     -0.079037   -0.047319   \n",
      "MiscVal                 0.068777  -0.034383     -0.010286   -0.029512   \n",
      "MoSold                 -0.003511   0.012398      0.021490   -0.006723   \n",
      "YrSold                  0.043950  -0.013618      0.035743   -0.008317   \n",
      "SalePrice              -0.077856   0.522897      0.507101    0.472614   \n",
      "BasementOverall        -0.116558   0.606825      0.503145    0.259666   \n",
      "GarageOverall           0.024858   0.306358      0.153298    0.133899   \n",
      "PoolOverall            -0.013646   0.002113      0.010059    0.015073   \n",
      "OverallQualityScore     0.606725   0.158738      0.458148    0.225714   \n",
      "ExternalOverall         0.098111   0.428501      0.520120    0.273882   \n",
      "FireplaceOverall       -0.027352   0.155117      0.136463    0.267163   \n",
      "\n",
      "                     ExterQual        ...          MiscVal    MoSold  \\\n",
      "Id                    0.005039        ...        -0.006242  0.021172   \n",
      "MSSubClass            0.016178        ...        -0.007683 -0.013585   \n",
      "LotFrontage           0.127864        ...        -0.059606  0.018942   \n",
      "LotArea               0.055570        ...         0.038068  0.001205   \n",
      "OverallQual           0.726278        ...        -0.031406  0.070815   \n",
      "OverallCond          -0.138942        ...         0.068777 -0.003511   \n",
      "YearBuilt             0.598160        ...        -0.034383  0.012398   \n",
      "YearRemodAdd          0.587318        ...        -0.010286  0.021490   \n",
      "MasVnrArea            0.345329        ...        -0.029512 -0.006723   \n",
      "ExterQual             1.000000        ...        -0.039310  0.042790   \n",
      "ExterCond             0.009184        ...         0.051649  0.027244   \n",
      "BsmtQual              0.565558        ...        -0.044404  0.015662   \n",
      "BsmtCond              0.185046        ...        -0.023240  0.025060   \n",
      "BsmtExposure          0.249101        ...        -0.017281  0.019911   \n",
      "BsmtFinType1          0.194052        ...         0.005504 -0.032881   \n",
      "BsmtFinSF1            0.203777        ...         0.003571 -0.015727   \n",
      "BsmtFinType2         -0.107918        ...         0.036941 -0.018343   \n",
      "BsmtFinSF2           -0.076236        ...         0.004940 -0.015211   \n",
      "BsmtUnfSF             0.284705        ...        -0.023837  0.034888   \n",
      "TotalBsmtSF           0.470580        ...        -0.018479  0.013196   \n",
      "Electrical            0.211785        ...         0.022106  0.001316   \n",
      "1stFlrSF              0.397835        ...        -0.021096  0.031372   \n",
      "2ndFlrSF              0.179530        ...         0.016197  0.035164   \n",
      "LowQualFinSF         -0.063062        ...        -0.003793 -0.022174   \n",
      "GrLivArea             0.435986        ...        -0.002416  0.050240   \n",
      "BsmtFullBath          0.124550        ...        -0.023047 -0.025361   \n",
      "BsmtHalfBath         -0.056261        ...        -0.007367  0.032873   \n",
      "FullBath              0.483949        ...        -0.014290  0.055872   \n",
      "HalfBath              0.193892        ...         0.001290 -0.009050   \n",
      "BedroomAbvGr         -0.018729        ...         0.007767  0.046544   \n",
      "KitchenAbvGr         -0.151236        ...         0.062341  0.026589   \n",
      "TotRmsAbvGrd          0.297903        ...         0.024763  0.036907   \n",
      "Fireplaces            0.249335        ...         0.001409  0.046357   \n",
      "FireplaceQu           0.361798        ...        -0.020872  0.054470   \n",
      "GarageType            0.414121        ...         0.018111  0.021611   \n",
      "GarageYrBlt           0.583296        ...        -0.032417  0.005337   \n",
      "GarageFinish          0.519054        ...        -0.003352 -0.000683   \n",
      "GarageCars            0.526390        ...        -0.043080  0.040522   \n",
      "GarageArea            0.495778        ...        -0.027400  0.027974   \n",
      "GarageQual            0.219023        ...        -0.004784  0.014789   \n",
      "GarageCond            0.214680        ...        -0.001663  0.012968   \n",
      "WoodDeckSF            0.207932        ...        -0.009551  0.021011   \n",
      "OpenPorchSF           0.291553        ...        -0.018584  0.071255   \n",
      "EnclosedPorch        -0.149589        ...         0.018361 -0.028887   \n",
      "3SsnPorch             0.036934        ...         0.000354  0.029474   \n",
      "ScreenPorch           0.012688        ...         0.031946  0.023217   \n",
      "PoolArea              0.038495        ...         0.033900 -0.037617   \n",
      "PoolQC                0.051950        ...         0.014739 -0.032397   \n",
      "Fence                -0.220675        ...         0.025550  0.009892   \n",
      "MiscFeature          -0.077868        ...         0.516878  0.012035   \n",
      "MiscVal              -0.039310        ...         1.000000 -0.006495   \n",
      "MoSold                0.042790        ...        -0.006495  1.000000   \n",
      "YrSold               -0.006745        ...         0.004906 -0.145721   \n",
      "SalePrice             0.682639        ...        -0.021190  0.046432   \n",
      "BasementOverall       0.556488        ...        -0.038525  0.028445   \n",
      "GarageOverall         0.215833        ...        -0.001331  0.010469   \n",
      "PoolOverall           0.051950        ...         0.014739 -0.032397   \n",
      "OverallQualityScore   0.462581        ...         0.026346  0.053557   \n",
      "ExternalOverall       0.839051        ...        -0.000825  0.050388   \n",
      "FireplaceOverall      0.302177        ...        -0.007590  0.047885   \n",
      "\n",
      "                       YrSold  SalePrice  BasementOverall  GarageOverall  \\\n",
      "Id                   0.000712  -0.021917        -0.020870       0.007794   \n",
      "MSSubClass          -0.021407  -0.084284         0.044731      -0.073792   \n",
      "LotFrontage         -0.012094   0.209624         0.087495       0.010002   \n",
      "LotArea             -0.014261   0.263843         0.072298       0.075573   \n",
      "OverallQual         -0.027347   0.790982         0.615126       0.293340   \n",
      "OverallCond          0.043950  -0.077856        -0.116558       0.024858   \n",
      "YearBuilt           -0.013618   0.522897         0.606825       0.306358   \n",
      "YearRemodAdd         0.035743   0.507101         0.503145       0.153298   \n",
      "MasVnrArea          -0.008317   0.472614         0.259666       0.133899   \n",
      "ExterQual           -0.006745   0.682639         0.556488       0.215833   \n",
      "ExterCond            0.008053   0.018899         0.030553       0.107553   \n",
      "BsmtQual            -0.021461   0.585207         0.944716       0.193601   \n",
      "BsmtCond            -0.060289   0.212607         0.733052       0.138362   \n",
      "BsmtExposure        -0.064060   0.374696         0.383811       0.079362   \n",
      "BsmtFinType1         0.045934   0.279720         0.310687       0.160587   \n",
      "BsmtFinSF1           0.014359   0.386420         0.285864       0.148786   \n",
      "BsmtFinType2         0.038438  -0.039052        -0.013878       0.062044   \n",
      "BsmtFinSF2           0.031706  -0.011378        -0.003067       0.052044   \n",
      "BsmtUnfSF           -0.041258   0.214479         0.228349       0.000536   \n",
      "TotalBsmtSF         -0.014969   0.613581         0.526064       0.174362   \n",
      "Electrical           0.036214   0.227289         0.293850       0.210570   \n",
      "1stFlrSF            -0.013604   0.605852         0.280386       0.175779   \n",
      "2ndFlrSF            -0.028700   0.319334         0.130364       0.042322   \n",
      "LowQualFinSF        -0.028921  -0.025606        -0.077266      -0.096320   \n",
      "GrLivArea           -0.036526   0.708624         0.307423       0.155564   \n",
      "BsmtFullBath         0.067049   0.227122         0.222939       0.066700   \n",
      "BsmtHalfBath        -0.046524  -0.016844         0.007844       0.021917   \n",
      "FullBath            -0.019669   0.560664         0.365719       0.141272   \n",
      "HalfBath            -0.010269   0.284108         0.222624       0.115756   \n",
      "BedroomAbvGr        -0.036014   0.168213        -0.039859      -0.006570   \n",
      "KitchenAbvGr         0.031687  -0.135907        -0.265017      -0.173425   \n",
      "TotRmsAbvGrd        -0.034516   0.533723         0.174208       0.079675   \n",
      "Fireplaces          -0.024096   0.466929         0.219766       0.204686   \n",
      "FireplaceQu         -0.051293   0.520438         0.297998       0.216495   \n",
      "GarageType          -0.006771   0.479266         0.415197       0.377450   \n",
      "GarageYrBlt         -0.001014   0.486362         0.569130       0.292768   \n",
      "GarageFinish         0.001467   0.549247         0.476404       0.468614   \n",
      "GarageCars          -0.039117   0.640409         0.447394       0.539501   \n",
      "GarageArea          -0.027378   0.623431         0.402486       0.538858   \n",
      "GarageQual          -0.006451   0.273839         0.192007       0.963652   \n",
      "GarageCond          -0.008895   0.263191         0.203834       0.956981   \n",
      "WoodDeckSF           0.022270   0.324413         0.252972       0.132848   \n",
      "OpenPorchSF         -0.057619   0.315856         0.246959       0.067391   \n",
      "EnclosedPorch       -0.009916  -0.128578        -0.188459      -0.113719   \n",
      "3SsnPorch            0.018645   0.044584         0.004069       0.031616   \n",
      "ScreenPorch          0.010694   0.111447         0.028371       0.068894   \n",
      "PoolArea            -0.057585   0.093708         0.024041       0.047254   \n",
      "PoolQC              -0.050292   0.111696         0.027370       0.047252   \n",
      "Fence                0.035366  -0.140640        -0.139031       0.018287   \n",
      "MiscFeature          0.043844  -0.063289        -0.067489       0.016176   \n",
      "MiscVal              0.004906  -0.021190        -0.038525      -0.001331   \n",
      "MoSold              -0.145721   0.046432         0.028445       0.010469   \n",
      "YrSold               1.000000  -0.028923        -0.049688      -0.006429   \n",
      "SalePrice           -0.028923   1.000000         0.571438       0.274010   \n",
      "BasementOverall     -0.049688   0.571438         1.000000       0.205858   \n",
      "GarageOverall       -0.006429   0.274010         0.205858       1.000000   \n",
      "PoolOverall         -0.050292   0.111696         0.027370       0.047252   \n",
      "OverallQualityScore  0.009937   0.565294         0.377057       0.241140   \n",
      "ExternalOverall     -0.000658   0.576287         0.470353       0.231883   \n",
      "FireplaceOverall    -0.028707   0.510043         0.245786       0.198483   \n",
      "\n",
      "                     PoolOverall  OverallQualityScore  ExternalOverall  \\\n",
      "Id                      0.047655            -0.015879         0.019353   \n",
      "MSSubClass              0.014198            -0.011088        -0.019898   \n",
      "LotFrontage             0.150254             0.094782         0.080236   \n",
      "LotArea                 0.091727             0.085616         0.054967   \n",
      "OverallQual             0.083690             0.717167         0.605154   \n",
      "OverallCond            -0.013646             0.606725         0.098111   \n",
      "YearBuilt               0.002113             0.158738         0.428501   \n",
      "YearRemodAdd            0.010059             0.458148         0.520120   \n",
      "MasVnrArea              0.015073             0.225714         0.273882   \n",
      "ExterQual               0.051950             0.462581         0.839051   \n",
      "ExterCond               0.049562             0.273506         0.543547   \n",
      "BsmtQual                0.032812             0.356223         0.448986   \n",
      "BsmtCond                0.007808             0.281005         0.226922   \n",
      "BsmtExposure            0.051610             0.185386         0.204478   \n",
      "BsmtFinType1            0.035301             0.130011         0.187325   \n",
      "BsmtFinSF1              0.177096             0.140611         0.187227   \n",
      "BsmtFinType2            0.006636            -0.012535        -0.056747   \n",
      "BsmtFinSF2              0.022143            -0.018748        -0.029200   \n",
      "BsmtUnfSF              -0.030765             0.148513         0.196948   \n",
      "TotalBsmtSF             0.161273             0.288875         0.382280   \n",
      "Electrical              0.018373             0.230673         0.250832   \n",
      "1stFlrSF                0.155367             0.274178         0.327248   \n",
      "2ndFlrSF                0.100361             0.272879         0.169470   \n",
      "LowQualFinSF            0.094762             0.009067        -0.059867   \n",
      "GrLivArea               0.206441             0.429234         0.375994   \n",
      "BsmtFullBath            0.073377             0.037137         0.119230   \n",
      "BsmtHalfBath            0.037402             0.050253         0.008512   \n",
      "FullBath                0.056935             0.299555         0.402649   \n",
      "HalfBath                0.015432             0.182246         0.145904   \n",
      "BedroomAbvGr            0.067078             0.102207        -0.002677   \n",
      "KitchenAbvGr           -0.014006            -0.197303        -0.149466   \n",
      "TotRmsAbvGrd            0.091779             0.310811         0.251548   \n",
      "Fireplaces              0.099071             0.308749         0.224877   \n",
      "FireplaceQu             0.054238             0.350649         0.304056   \n",
      "GarageType              0.015667             0.241612         0.322268   \n",
      "GarageYrBlt            -0.017331             0.185629         0.431123   \n",
      "GarageFinish            0.032512             0.304643         0.414640   \n",
      "GarageCars              0.024058             0.338911         0.425477   \n",
      "GarageArea              0.079508             0.330108         0.417940   \n",
      "GarageQual              0.031491             0.237807         0.227417   \n",
      "GarageCond              0.031758             0.223552         0.225694   \n",
      "WoodDeckSF              0.059912             0.181662         0.193255   \n",
      "OpenPorchSF             0.061265             0.229760         0.285087   \n",
      "EnclosedPorch           0.091280            -0.038126        -0.101970   \n",
      "3SsnPorch              -0.007706             0.042677         0.035304   \n",
      "ScreenPorch             0.022323             0.097423         0.029852   \n",
      "PoolArea                0.954286             0.047283         0.059759   \n",
      "PoolQC                  1.000000             0.050729         0.077081   \n",
      "Fence                   0.143845             0.005015        -0.145526   \n",
      "MiscFeature             0.039316            -0.015014        -0.060729   \n",
      "MiscVal                 0.014739             0.026346        -0.000825   \n",
      "MoSold                 -0.032397             0.053557         0.050388   \n",
      "YrSold                 -0.050292             0.009937        -0.000658   \n",
      "SalePrice               0.111696             0.565294         0.576287   \n",
      "BasementOverall         0.027370             0.377057         0.470353   \n",
      "GarageOverall           0.047252             0.241140         0.231883   \n",
      "PoolOverall             1.000000             0.050729         0.077081   \n",
      "OverallQualityScore     0.050729             1.000000         0.536768   \n",
      "ExternalOverall         0.077081             0.536768         1.000000   \n",
      "FireplaceOverall        0.091226             0.340299         0.263842   \n",
      "\n",
      "                     FireplaceOverall  \n",
      "Id                          -0.013259  \n",
      "MSSubClass                  -0.051434  \n",
      "LotFrontage                  0.076960  \n",
      "LotArea                      0.269587  \n",
      "OverallQual                  0.443233  \n",
      "OverallCond                 -0.027352  \n",
      "YearBuilt                    0.155117  \n",
      "YearRemodAdd                 0.136463  \n",
      "MasVnrArea                   0.267163  \n",
      "ExterQual                    0.302177  \n",
      "ExterCond                    0.021391  \n",
      "BsmtQual                     0.256456  \n",
      "BsmtCond                     0.102419  \n",
      "BsmtExposure                 0.199066  \n",
      "BsmtFinType1                 0.121051  \n",
      "BsmtFinSF1                   0.260023  \n",
      "BsmtFinType2                 0.019266  \n",
      "BsmtFinSF2                   0.027391  \n",
      "BsmtUnfSF                    0.095041  \n",
      "TotalBsmtSF                  0.376130  \n",
      "Electrical                   0.121370  \n",
      "1stFlrSF                     0.440971  \n",
      "2ndFlrSF                     0.189595  \n",
      "LowQualFinSF                -0.016324  \n",
      "GrLivArea                    0.480406  \n",
      "BsmtFullBath                 0.134827  \n",
      "BsmtHalfBath                 0.016465  \n",
      "FullBath                     0.247899  \n",
      "HalfBath                     0.185052  \n",
      "BedroomAbvGr                 0.095763  \n",
      "KitchenAbvGr                -0.127110  \n",
      "TotRmsAbvGrd                 0.345942  \n",
      "Fireplaces                   0.961538  \n",
      "FireplaceQu                  0.903035  \n",
      "GarageType                   0.325093  \n",
      "GarageYrBlt                  0.059783  \n",
      "GarageFinish                 0.338177  \n",
      "GarageCars                   0.318362  \n",
      "GarageArea                   0.290374  \n",
      "GarageQual                   0.203063  \n",
      "GarageCond                   0.193485  \n",
      "WoodDeckSF                   0.200993  \n",
      "OpenPorchSF                  0.161457  \n",
      "EnclosedPorch               -0.033322  \n",
      "3SsnPorch                    0.016650  \n",
      "ScreenPorch                  0.179251  \n",
      "PoolArea                     0.089561  \n",
      "PoolQC                       0.091226  \n",
      "Fence                       -0.046578  \n",
      "MiscFeature                 -0.012620  \n",
      "MiscVal                     -0.007590  \n",
      "MoSold                       0.047885  \n",
      "YrSold                      -0.028707  \n",
      "SalePrice                    0.510043  \n",
      "BasementOverall              0.245786  \n",
      "GarageOverall                0.198483  \n",
      "PoolOverall                  0.091226  \n",
      "OverallQualityScore          0.340299  \n",
      "ExternalOverall              0.263842  \n",
      "FireplaceOverall             1.000000  \n",
      "\n",
      "[60 rows x 60 columns]\n"
     ]
    }
   ],
   "source": [
    "# This creates a heatmap to see what features appear to be highly correlated with Sales Price\n",
    "\n",
    "ames_corr = ames.corr()\n",
    "print(ames_corr)"
   ]
  },
  {
   "cell_type": "markdown",
   "metadata": {},
   "source": [
    "# Correlation Findings\n",
    "\n",
    "It appears the following factors are most correlated with SalesPrice:\n",
    "* OverallQual - 0.79\n",
    "* GarageCars - 0.64\n",
    "* GarageArea - 0.62\n",
    "* TotalBsmtSF - 0.61\n",
    "* YearBuilt - 0.52\n",
    "* YearRemodAdd - 0.50\n",
    "* In addition, our calculated columns are included in our model\n"
   ]
  },
  {
   "cell_type": "code",
   "execution_count": 47,
   "metadata": {},
   "outputs": [],
   "source": [
    "dropped_list = ['Id', 'MSSubClass', 'LotArea', 'OverallCond',\n",
    "       'ExterQual', 'ExterCond', 'BsmtExposure',\n",
    "       'BsmtFinType1', 'BsmtFinSF1', 'BsmtFinType2', 'BsmtFinSF2', 'BsmtUnfSF',\n",
    "       'Electrical', '1stFlrSF', '2ndFlrSF', 'LowQualFinSF',\n",
    "       'GrLivArea', 'BsmtFullBath', 'BsmtHalfBath', 'FullBath', 'HalfBath',\n",
    "       'BedroomAbvGr', 'KitchenAbvGr', 'TotRmsAbvGrd', 'Fireplaces',\n",
    "       'FireplaceQu', 'GarageType', 'GarageFinish',\n",
    "       'WoodDeckSF', 'OpenPorchSF', 'EnclosedPorch', '3SsnPorch',\n",
    "       'ScreenPorch', 'PoolArea', 'Fence', 'MiscFeature', 'MiscVal', 'MoSold',\n",
    "       'YrSold', 'SalePrice']\n",
    "\n",
    "X = ames_numbers.drop(dropped_list, axis=1)\n",
    "y = ames_numbers.SalePrice\n"
   ]
  },
  {
   "cell_type": "code",
   "execution_count": 48,
   "metadata": {},
   "outputs": [
    {
     "name": "stdout",
     "output_type": "stream",
     "text": [
      "Mean Squared Error is: 1613362551.3474014 and Mean Squared Root Error is: 40166.68459491524\n"
     ]
    }
   ],
   "source": [
    "# This creates a simple model based on all \"int64\" \n",
    "# columns from the dataset as the X variable and the Sale Price as Y variable\n",
    "\n",
    "lr = LinearRegression()\n",
    "lr.fit(X, y)\n",
    "\n",
    "pred = lr.predict(X)\n",
    "\n",
    "from sklearn.metrics import mean_squared_error\n",
    "\n",
    "mse_1 = mean_squared_error(pred, y)\n",
    "\n",
    "msre_1 = np.sqrt(mean_squared_error(pred, y))\n",
    "\n",
    "print(\"Mean Squared Error is: {} and Mean Squared Root Error is: {}\".format(mse_1, msre_1))"
   ]
  },
  {
   "cell_type": "markdown",
   "metadata": {},
   "source": [
    "# Results\n",
    "\n",
    "* It appears our model has an MSRE currently \\$40166 off from the actual sales price on average\n",
    "\n",
    "## Next Steps / To Do:\n",
    "\n",
    "1. Split data into testing and training sets\n",
    "2. Normalize quantitative features (use scatter matrix or histogram to verify)\n",
    "3. Use Polynomial regression to improve performance of model\n",
    "\n"
   ]
  },
  {
   "cell_type": "code",
   "execution_count": 49,
   "metadata": {},
   "outputs": [
    {
     "ename": "ValueError",
     "evalue": "could not convert string to float: 'Abnorml'",
     "output_type": "error",
     "traceback": [
      "\u001b[0;31m---------------------------------------------------------------------------\u001b[0m",
      "\u001b[0;31mValueError\u001b[0m                                Traceback (most recent call last)",
      "\u001b[0;32m<ipython-input-49-67c162d3abd7>\u001b[0m in \u001b[0;36m<module>\u001b[0;34m()\u001b[0m\n\u001b[1;32m      6\u001b[0m \u001b[0;34m\u001b[0m\u001b[0m\n\u001b[1;32m      7\u001b[0m \u001b[0mlm\u001b[0m \u001b[0;34m=\u001b[0m \u001b[0mLinearRegression\u001b[0m\u001b[0;34m(\u001b[0m\u001b[0;34m)\u001b[0m\u001b[0;34m\u001b[0m\u001b[0m\n\u001b[0;32m----> 8\u001b[0;31m \u001b[0mlm\u001b[0m\u001b[0;34m.\u001b[0m\u001b[0mfit\u001b[0m\u001b[0;34m(\u001b[0m\u001b[0mX_train\u001b[0m\u001b[0;34m,\u001b[0m \u001b[0my_train\u001b[0m\u001b[0;34m)\u001b[0m\u001b[0;34m\u001b[0m\u001b[0m\n\u001b[0m\u001b[1;32m      9\u001b[0m \u001b[0;34m\u001b[0m\u001b[0m\n\u001b[1;32m     10\u001b[0m \u001b[0mtrain_score\u001b[0m \u001b[0;34m=\u001b[0m \u001b[0mlm\u001b[0m\u001b[0;34m.\u001b[0m\u001b[0mscore\u001b[0m\u001b[0;34m(\u001b[0m\u001b[0mX_train\u001b[0m\u001b[0;34m,\u001b[0m \u001b[0my_train\u001b[0m\u001b[0;34m)\u001b[0m\u001b[0;34m\u001b[0m\u001b[0m\n",
      "\u001b[0;32m/anaconda3/lib/python3.6/site-packages/sklearn/linear_model/base.py\u001b[0m in \u001b[0;36mfit\u001b[0;34m(self, X, y, sample_weight)\u001b[0m\n\u001b[1;32m    480\u001b[0m         \u001b[0mn_jobs_\u001b[0m \u001b[0;34m=\u001b[0m \u001b[0mself\u001b[0m\u001b[0;34m.\u001b[0m\u001b[0mn_jobs\u001b[0m\u001b[0;34m\u001b[0m\u001b[0m\n\u001b[1;32m    481\u001b[0m         X, y = check_X_y(X, y, accept_sparse=['csr', 'csc', 'coo'],\n\u001b[0;32m--> 482\u001b[0;31m                          y_numeric=True, multi_output=True)\n\u001b[0m\u001b[1;32m    483\u001b[0m \u001b[0;34m\u001b[0m\u001b[0m\n\u001b[1;32m    484\u001b[0m         \u001b[0;32mif\u001b[0m \u001b[0msample_weight\u001b[0m \u001b[0;32mis\u001b[0m \u001b[0;32mnot\u001b[0m \u001b[0;32mNone\u001b[0m \u001b[0;32mand\u001b[0m \u001b[0mnp\u001b[0m\u001b[0;34m.\u001b[0m\u001b[0matleast_1d\u001b[0m\u001b[0;34m(\u001b[0m\u001b[0msample_weight\u001b[0m\u001b[0;34m)\u001b[0m\u001b[0;34m.\u001b[0m\u001b[0mndim\u001b[0m \u001b[0;34m>\u001b[0m \u001b[0;36m1\u001b[0m\u001b[0;34m:\u001b[0m\u001b[0;34m\u001b[0m\u001b[0m\n",
      "\u001b[0;32m/anaconda3/lib/python3.6/site-packages/sklearn/utils/validation.py\u001b[0m in \u001b[0;36mcheck_X_y\u001b[0;34m(X, y, accept_sparse, dtype, order, copy, force_all_finite, ensure_2d, allow_nd, multi_output, ensure_min_samples, ensure_min_features, y_numeric, warn_on_dtype, estimator)\u001b[0m\n\u001b[1;32m    571\u001b[0m     X = check_array(X, accept_sparse, dtype, order, copy, force_all_finite,\n\u001b[1;32m    572\u001b[0m                     \u001b[0mensure_2d\u001b[0m\u001b[0;34m,\u001b[0m \u001b[0mallow_nd\u001b[0m\u001b[0;34m,\u001b[0m \u001b[0mensure_min_samples\u001b[0m\u001b[0;34m,\u001b[0m\u001b[0;34m\u001b[0m\u001b[0m\n\u001b[0;32m--> 573\u001b[0;31m                     ensure_min_features, warn_on_dtype, estimator)\n\u001b[0m\u001b[1;32m    574\u001b[0m     \u001b[0;32mif\u001b[0m \u001b[0mmulti_output\u001b[0m\u001b[0;34m:\u001b[0m\u001b[0;34m\u001b[0m\u001b[0m\n\u001b[1;32m    575\u001b[0m         y = check_array(y, 'csr', force_all_finite=True, ensure_2d=False,\n",
      "\u001b[0;32m/anaconda3/lib/python3.6/site-packages/sklearn/utils/validation.py\u001b[0m in \u001b[0;36mcheck_array\u001b[0;34m(array, accept_sparse, dtype, order, copy, force_all_finite, ensure_2d, allow_nd, ensure_min_samples, ensure_min_features, warn_on_dtype, estimator)\u001b[0m\n\u001b[1;32m    446\u001b[0m         \u001b[0;31m# make sure we actually converted to numeric:\u001b[0m\u001b[0;34m\u001b[0m\u001b[0;34m\u001b[0m\u001b[0m\n\u001b[1;32m    447\u001b[0m         \u001b[0;32mif\u001b[0m \u001b[0mdtype_numeric\u001b[0m \u001b[0;32mand\u001b[0m \u001b[0marray\u001b[0m\u001b[0;34m.\u001b[0m\u001b[0mdtype\u001b[0m\u001b[0;34m.\u001b[0m\u001b[0mkind\u001b[0m \u001b[0;34m==\u001b[0m \u001b[0;34m\"O\"\u001b[0m\u001b[0;34m:\u001b[0m\u001b[0;34m\u001b[0m\u001b[0m\n\u001b[0;32m--> 448\u001b[0;31m             \u001b[0marray\u001b[0m \u001b[0;34m=\u001b[0m \u001b[0marray\u001b[0m\u001b[0;34m.\u001b[0m\u001b[0mastype\u001b[0m\u001b[0;34m(\u001b[0m\u001b[0mnp\u001b[0m\u001b[0;34m.\u001b[0m\u001b[0mfloat64\u001b[0m\u001b[0;34m)\u001b[0m\u001b[0;34m\u001b[0m\u001b[0m\n\u001b[0m\u001b[1;32m    449\u001b[0m         \u001b[0;32mif\u001b[0m \u001b[0;32mnot\u001b[0m \u001b[0mallow_nd\u001b[0m \u001b[0;32mand\u001b[0m \u001b[0marray\u001b[0m\u001b[0;34m.\u001b[0m\u001b[0mndim\u001b[0m \u001b[0;34m>=\u001b[0m \u001b[0;36m3\u001b[0m\u001b[0;34m:\u001b[0m\u001b[0;34m\u001b[0m\u001b[0m\n\u001b[1;32m    450\u001b[0m             raise ValueError(\"Found array with dim %d. %s expected <= 2.\"\n",
      "\u001b[0;31mValueError\u001b[0m: could not convert string to float: 'Abnorml'"
     ]
    }
   ],
   "source": [
    "from sklearn.model_selection import train_test_split\n",
    "\n",
    "ames_X = ames.drop(['SalePrice'], axis = 1)\n",
    "ames_label = ames['SalePrice'].copy()\n",
    "X_train, X_test, y_train, y_test = train_test_split(ames_X, ames_label)\n",
    "\n",
    "lm = LinearRegression()\n",
    "lm.fit(X_train, y_train)\n",
    "\n",
    "train_score = lm.score(X_train, y_train)\n",
    "test_score = lm.score(X_test, y_test)\n",
    "\n",
    "print(\"Training Score: {} \\n Testing Score: {}\".format(train_score, test_score))\n",
    "\n",
    "predictions = lm.predict(X_test)\n",
    "\n",
    "mse = mean_squared_error(y_test, predictions)\n",
    "rmse = np.sqrt(mse)\n",
    "print(\"MSE: \", mse, \"\\nRMSE: \", rmse)\n",
    "\n"
   ]
  },
  {
   "cell_type": "code",
   "execution_count": null,
   "metadata": {},
   "outputs": [],
   "source": [
    "from sklearn.model_selection import train_test_split\n",
    "from sklearn.model_selection import GridSearchCV\n",
    "from sklearn.preprocessing import PolynomialFeatures\n",
    "from sklearn.linear_model import LinearRegression\n",
    "from sklearn.pipeline import make_pipeline\n",
    "from sklearn.metrics import mean_squared_error\n",
    "\n",
    "pipe = make_pipeline(PolynomialFeatures(), LinearRegression())\n",
    "\n",
    "degrees = {'polynomialfeatures__degree': [i for i in range(1, 10)]}\n",
    "\n",
    "grid = GridSearchCV(pipe, param_grid=degrees)\n",
    "\n",
    "grid.fit(X_train.reshape(-1,1), y_train)\n",
    "\n",
    "grid.best_estimator_\n",
    "\n",
    "best = grid.best_estimator_\n",
    "\n",
    "best.fit(X_train.reshape(-1,1), y_train)\n",
    "pred = best.predict(X_test.reshape(-1,1))\n",
    "np.sqrt(mean_squared_error(pred, y_test))\n",
    "\n",
    "y.mean()\n",
    "\n",
    "y.min()\n",
    "\n",
    "y.max()"
   ]
  }
 ],
 "metadata": {
  "kernelspec": {
   "display_name": "Python 3",
   "language": "python",
   "name": "python3"
  },
  "language_info": {
   "codemirror_mode": {
    "name": "ipython",
    "version": 3
   },
   "file_extension": ".py",
   "mimetype": "text/x-python",
   "name": "python",
   "nbconvert_exporter": "python",
   "pygments_lexer": "ipython3",
   "version": "3.6.4"
  }
 },
 "nbformat": 4,
 "nbformat_minor": 2
}
