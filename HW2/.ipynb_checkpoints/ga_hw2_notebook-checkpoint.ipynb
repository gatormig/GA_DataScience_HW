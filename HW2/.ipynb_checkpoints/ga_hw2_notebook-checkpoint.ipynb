{
 "cells": [
  {
   "cell_type": "markdown",
   "metadata": {},
   "source": [
    "### PROBLEM\n",
    "\n",
    "Return to your Ames Data.  We have covered a lot of ground today, so let's summarize the things we could do to improve the performance of our original model that compared the Above Ground Living Area to the Logarithm of the Sale Price.\n",
    "<div class=\"alert alert-info\" role=\"alert\">\n",
    "1. Clean data, drop missing values (Done)\n",
    "2. Transform data, code variables using either ordinal values or OneHotEncoder methods (Done)\n",
    "3. Create more features from existing features (Done)\n",
    "4. Split our data into testing and training sets\n",
    "5. Normalize quantitative features\n",
    "6. Use Regularized Regression methods and Polynomial regression to improve performance of model\n",
    "</div>\n",
    "Can you use some or all of these ideas to improve upon your initial model?"
   ]
  },
  {
   "cell_type": "markdown",
   "metadata": {},
   "source": [
    "### Feature Engineering and Cleaning\n",
    "\n",
    "\n",
    "We want to return to our Housing example and consider how to use some of `scikitlearn`'s functionality to deal with missing values.  We want to determine the correct way of dealing with these one by one, and use some of what we know about the data to inform these decisions.  If we have objects that are missing values, we can either exclude the observations, or encode the missing values using some kind of numerical value.  \n"
   ]
  },
  {
   "cell_type": "code",
   "execution_count": 324,
   "metadata": {},
   "outputs": [
    {
     "data": {
      "text/html": [
       "<div>\n",
       "<style scoped>\n",
       "    .dataframe tbody tr th:only-of-type {\n",
       "        vertical-align: middle;\n",
       "    }\n",
       "\n",
       "    .dataframe tbody tr th {\n",
       "        vertical-align: top;\n",
       "    }\n",
       "\n",
       "    .dataframe thead th {\n",
       "        text-align: right;\n",
       "    }\n",
       "</style>\n",
       "<table border=\"1\" class=\"dataframe\">\n",
       "  <thead>\n",
       "    <tr style=\"text-align: right;\">\n",
       "      <th></th>\n",
       "      <th>Id</th>\n",
       "      <th>MSSubClass</th>\n",
       "      <th>MSZoning</th>\n",
       "      <th>LotFrontage</th>\n",
       "      <th>LotArea</th>\n",
       "      <th>Street</th>\n",
       "      <th>Alley</th>\n",
       "      <th>LotShape</th>\n",
       "      <th>LandContour</th>\n",
       "      <th>Utilities</th>\n",
       "      <th>...</th>\n",
       "      <th>PoolArea</th>\n",
       "      <th>PoolQC</th>\n",
       "      <th>Fence</th>\n",
       "      <th>MiscFeature</th>\n",
       "      <th>MiscVal</th>\n",
       "      <th>MoSold</th>\n",
       "      <th>YrSold</th>\n",
       "      <th>SaleType</th>\n",
       "      <th>SaleCondition</th>\n",
       "      <th>SalePrice</th>\n",
       "    </tr>\n",
       "  </thead>\n",
       "  <tbody>\n",
       "    <tr>\n",
       "      <th>0</th>\n",
       "      <td>1</td>\n",
       "      <td>60</td>\n",
       "      <td>RL</td>\n",
       "      <td>65.0</td>\n",
       "      <td>8450</td>\n",
       "      <td>Pave</td>\n",
       "      <td>NaN</td>\n",
       "      <td>Reg</td>\n",
       "      <td>Lvl</td>\n",
       "      <td>AllPub</td>\n",
       "      <td>...</td>\n",
       "      <td>0</td>\n",
       "      <td>NaN</td>\n",
       "      <td>NaN</td>\n",
       "      <td>NaN</td>\n",
       "      <td>0</td>\n",
       "      <td>2</td>\n",
       "      <td>2008</td>\n",
       "      <td>WD</td>\n",
       "      <td>Normal</td>\n",
       "      <td>208500</td>\n",
       "    </tr>\n",
       "    <tr>\n",
       "      <th>1</th>\n",
       "      <td>2</td>\n",
       "      <td>20</td>\n",
       "      <td>RL</td>\n",
       "      <td>80.0</td>\n",
       "      <td>9600</td>\n",
       "      <td>Pave</td>\n",
       "      <td>NaN</td>\n",
       "      <td>Reg</td>\n",
       "      <td>Lvl</td>\n",
       "      <td>AllPub</td>\n",
       "      <td>...</td>\n",
       "      <td>0</td>\n",
       "      <td>NaN</td>\n",
       "      <td>NaN</td>\n",
       "      <td>NaN</td>\n",
       "      <td>0</td>\n",
       "      <td>5</td>\n",
       "      <td>2007</td>\n",
       "      <td>WD</td>\n",
       "      <td>Normal</td>\n",
       "      <td>181500</td>\n",
       "    </tr>\n",
       "    <tr>\n",
       "      <th>2</th>\n",
       "      <td>3</td>\n",
       "      <td>60</td>\n",
       "      <td>RL</td>\n",
       "      <td>68.0</td>\n",
       "      <td>11250</td>\n",
       "      <td>Pave</td>\n",
       "      <td>NaN</td>\n",
       "      <td>IR1</td>\n",
       "      <td>Lvl</td>\n",
       "      <td>AllPub</td>\n",
       "      <td>...</td>\n",
       "      <td>0</td>\n",
       "      <td>NaN</td>\n",
       "      <td>NaN</td>\n",
       "      <td>NaN</td>\n",
       "      <td>0</td>\n",
       "      <td>9</td>\n",
       "      <td>2008</td>\n",
       "      <td>WD</td>\n",
       "      <td>Normal</td>\n",
       "      <td>223500</td>\n",
       "    </tr>\n",
       "    <tr>\n",
       "      <th>3</th>\n",
       "      <td>4</td>\n",
       "      <td>70</td>\n",
       "      <td>RL</td>\n",
       "      <td>60.0</td>\n",
       "      <td>9550</td>\n",
       "      <td>Pave</td>\n",
       "      <td>NaN</td>\n",
       "      <td>IR1</td>\n",
       "      <td>Lvl</td>\n",
       "      <td>AllPub</td>\n",
       "      <td>...</td>\n",
       "      <td>0</td>\n",
       "      <td>NaN</td>\n",
       "      <td>NaN</td>\n",
       "      <td>NaN</td>\n",
       "      <td>0</td>\n",
       "      <td>2</td>\n",
       "      <td>2006</td>\n",
       "      <td>WD</td>\n",
       "      <td>Abnorml</td>\n",
       "      <td>140000</td>\n",
       "    </tr>\n",
       "    <tr>\n",
       "      <th>4</th>\n",
       "      <td>5</td>\n",
       "      <td>60</td>\n",
       "      <td>RL</td>\n",
       "      <td>84.0</td>\n",
       "      <td>14260</td>\n",
       "      <td>Pave</td>\n",
       "      <td>NaN</td>\n",
       "      <td>IR1</td>\n",
       "      <td>Lvl</td>\n",
       "      <td>AllPub</td>\n",
       "      <td>...</td>\n",
       "      <td>0</td>\n",
       "      <td>NaN</td>\n",
       "      <td>NaN</td>\n",
       "      <td>NaN</td>\n",
       "      <td>0</td>\n",
       "      <td>12</td>\n",
       "      <td>2008</td>\n",
       "      <td>WD</td>\n",
       "      <td>Normal</td>\n",
       "      <td>250000</td>\n",
       "    </tr>\n",
       "  </tbody>\n",
       "</table>\n",
       "<p>5 rows × 81 columns</p>\n",
       "</div>"
      ],
      "text/plain": [
       "   Id  MSSubClass MSZoning  LotFrontage  LotArea Street Alley LotShape  \\\n",
       "0   1          60       RL         65.0     8450   Pave   NaN      Reg   \n",
       "1   2          20       RL         80.0     9600   Pave   NaN      Reg   \n",
       "2   3          60       RL         68.0    11250   Pave   NaN      IR1   \n",
       "3   4          70       RL         60.0     9550   Pave   NaN      IR1   \n",
       "4   5          60       RL         84.0    14260   Pave   NaN      IR1   \n",
       "\n",
       "  LandContour Utilities    ...     PoolArea PoolQC Fence MiscFeature MiscVal  \\\n",
       "0         Lvl    AllPub    ...            0    NaN   NaN         NaN       0   \n",
       "1         Lvl    AllPub    ...            0    NaN   NaN         NaN       0   \n",
       "2         Lvl    AllPub    ...            0    NaN   NaN         NaN       0   \n",
       "3         Lvl    AllPub    ...            0    NaN   NaN         NaN       0   \n",
       "4         Lvl    AllPub    ...            0    NaN   NaN         NaN       0   \n",
       "\n",
       "  MoSold YrSold  SaleType  SaleCondition  SalePrice  \n",
       "0      2   2008        WD         Normal     208500  \n",
       "1      5   2007        WD         Normal     181500  \n",
       "2      9   2008        WD         Normal     223500  \n",
       "3      2   2006        WD        Abnorml     140000  \n",
       "4     12   2008        WD         Normal     250000  \n",
       "\n",
       "[5 rows x 81 columns]"
      ]
     },
     "execution_count": 324,
     "metadata": {},
     "output_type": "execute_result"
    }
   ],
   "source": [
    "import seaborn as sns\n",
    "import matplotlib.pyplot as plt\n",
    "import pandas as pd\n",
    "import numpy as np\n",
    "import os as os\n",
    "import scipy.stats as st\n",
    "from sklearn.linear_model import LinearRegression\n",
    "from sklearn.pipeline import Pipeline\n",
    "\n",
    "%matplotlib inline\n",
    "\n",
    "ames = pd.read_csv('../data/ames_housing.csv')\n",
    "\n",
    "ames.head()"
   ]
  },
  {
   "cell_type": "code",
   "execution_count": 279,
   "metadata": {},
   "outputs": [
    {
     "name": "stdout",
     "output_type": "stream",
     "text": [
      "<class 'pandas.core.frame.DataFrame'>\n",
      "RangeIndex: 1460 entries, 0 to 1459\n",
      "Data columns (total 81 columns):\n",
      "Id               1460 non-null int64\n",
      "MSSubClass       1460 non-null int64\n",
      "MSZoning         1460 non-null object\n",
      "LotFrontage      1201 non-null float64\n",
      "LotArea          1460 non-null int64\n",
      "Street           1460 non-null object\n",
      "Alley            91 non-null object\n",
      "LotShape         1460 non-null object\n",
      "LandContour      1460 non-null object\n",
      "Utilities        1460 non-null object\n",
      "LotConfig        1460 non-null object\n",
      "LandSlope        1460 non-null object\n",
      "Neighborhood     1460 non-null object\n",
      "Condition1       1460 non-null object\n",
      "Condition2       1460 non-null object\n",
      "BldgType         1460 non-null object\n",
      "HouseStyle       1460 non-null object\n",
      "OverallQual      1460 non-null int64\n",
      "OverallCond      1460 non-null int64\n",
      "YearBuilt        1460 non-null int64\n",
      "YearRemodAdd     1460 non-null int64\n",
      "RoofStyle        1460 non-null object\n",
      "RoofMatl         1460 non-null object\n",
      "Exterior1st      1460 non-null object\n",
      "Exterior2nd      1460 non-null object\n",
      "MasVnrType       1452 non-null object\n",
      "MasVnrArea       1452 non-null float64\n",
      "ExterQual        1460 non-null object\n",
      "ExterCond        1460 non-null object\n",
      "Foundation       1460 non-null object\n",
      "BsmtQual         1423 non-null object\n",
      "BsmtCond         1423 non-null object\n",
      "BsmtExposure     1422 non-null object\n",
      "BsmtFinType1     1423 non-null object\n",
      "BsmtFinSF1       1460 non-null int64\n",
      "BsmtFinType2     1422 non-null object\n",
      "BsmtFinSF2       1460 non-null int64\n",
      "BsmtUnfSF        1460 non-null int64\n",
      "TotalBsmtSF      1460 non-null int64\n",
      "Heating          1460 non-null object\n",
      "HeatingQC        1460 non-null object\n",
      "CentralAir       1460 non-null object\n",
      "Electrical       1459 non-null object\n",
      "1stFlrSF         1460 non-null int64\n",
      "2ndFlrSF         1460 non-null int64\n",
      "LowQualFinSF     1460 non-null int64\n",
      "GrLivArea        1460 non-null int64\n",
      "BsmtFullBath     1460 non-null int64\n",
      "BsmtHalfBath     1460 non-null int64\n",
      "FullBath         1460 non-null int64\n",
      "HalfBath         1460 non-null int64\n",
      "BedroomAbvGr     1460 non-null int64\n",
      "KitchenAbvGr     1460 non-null int64\n",
      "KitchenQual      1460 non-null object\n",
      "TotRmsAbvGrd     1460 non-null int64\n",
      "Functional       1460 non-null object\n",
      "Fireplaces       1460 non-null int64\n",
      "FireplaceQu      770 non-null object\n",
      "GarageType       1379 non-null object\n",
      "GarageYrBlt      1379 non-null float64\n",
      "GarageFinish     1379 non-null object\n",
      "GarageCars       1460 non-null int64\n",
      "GarageArea       1460 non-null int64\n",
      "GarageQual       1379 non-null object\n",
      "GarageCond       1379 non-null object\n",
      "PavedDrive       1460 non-null object\n",
      "WoodDeckSF       1460 non-null int64\n",
      "OpenPorchSF      1460 non-null int64\n",
      "EnclosedPorch    1460 non-null int64\n",
      "3SsnPorch        1460 non-null int64\n",
      "ScreenPorch      1460 non-null int64\n",
      "PoolArea         1460 non-null int64\n",
      "PoolQC           7 non-null object\n",
      "Fence            281 non-null object\n",
      "MiscFeature      54 non-null object\n",
      "MiscVal          1460 non-null int64\n",
      "MoSold           1460 non-null int64\n",
      "YrSold           1460 non-null int64\n",
      "SaleType         1460 non-null object\n",
      "SaleCondition    1460 non-null object\n",
      "SalePrice        1460 non-null int64\n",
      "dtypes: float64(3), int64(35), object(43)\n",
      "memory usage: 924.0+ KB\n"
     ]
    }
   ],
   "source": [
    "ames.info()"
   ]
  },
  {
   "cell_type": "code",
   "execution_count": 280,
   "metadata": {},
   "outputs": [
    {
     "data": {
      "text/plain": [
       "Grvl    50\n",
       "Pave    41\n",
       "Name: Alley, dtype: int64"
      ]
     },
     "execution_count": 280,
     "metadata": {},
     "output_type": "execute_result"
    }
   ],
   "source": [
    "## Cleaning Data\n",
    "\n",
    "# We need to clean the Ames Dataset columsn\n",
    "\n",
    "ames['Alley'].value_counts()"
   ]
  },
  {
   "cell_type": "code",
   "execution_count": 281,
   "metadata": {},
   "outputs": [],
   "source": [
    "ames['Alley'] = ames['Alley'].fillna(\"None\")"
   ]
  },
  {
   "cell_type": "code",
   "execution_count": 282,
   "metadata": {},
   "outputs": [
    {
     "data": {
      "text/plain": [
       "None    1369\n",
       "Grvl      50\n",
       "Pave      41\n",
       "Name: Alley, dtype: int64"
      ]
     },
     "execution_count": 282,
     "metadata": {},
     "output_type": "execute_result"
    }
   ],
   "source": [
    "ames['Alley'].value_counts()"
   ]
  },
  {
   "cell_type": "code",
   "execution_count": 283,
   "metadata": {},
   "outputs": [
    {
     "data": {
      "text/plain": [
       "Gd    380\n",
       "TA    313\n",
       "Fa     33\n",
       "Ex     24\n",
       "Po     20\n",
       "Name: FireplaceQu, dtype: int64"
      ]
     },
     "execution_count": 283,
     "metadata": {},
     "output_type": "execute_result"
    }
   ],
   "source": [
    "ames['FireplaceQu'].value_counts()"
   ]
  },
  {
   "cell_type": "code",
   "execution_count": 284,
   "metadata": {},
   "outputs": [],
   "source": [
    "ames['FireplaceQu'] = ames['FireplaceQu'].fillna(\"None\")"
   ]
  },
  {
   "cell_type": "code",
   "execution_count": 285,
   "metadata": {},
   "outputs": [
    {
     "data": {
      "text/plain": [
       "Shed    49\n",
       "Othr     2\n",
       "Gar2     2\n",
       "TenC     1\n",
       "Name: MiscFeature, dtype: int64"
      ]
     },
     "execution_count": 285,
     "metadata": {},
     "output_type": "execute_result"
    }
   ],
   "source": [
    "ames['MiscFeature'].value_counts()"
   ]
  },
  {
   "cell_type": "code",
   "execution_count": 286,
   "metadata": {},
   "outputs": [
    {
     "data": {
      "text/plain": [
       "6     253\n",
       "7     234\n",
       "5     204\n",
       "4     141\n",
       "8     122\n",
       "3     106\n",
       "10     89\n",
       "11     79\n",
       "9      63\n",
       "12     59\n",
       "1      58\n",
       "2      52\n",
       "Name: MoSold, dtype: int64"
      ]
     },
     "execution_count": 286,
     "metadata": {},
     "output_type": "execute_result"
    }
   ],
   "source": [
    "ames['MoSold'].value_counts()"
   ]
  },
  {
   "cell_type": "markdown",
   "metadata": {},
   "source": [
    "Note the existence of a number of ordinal data points.  We can encode these to follow the data dictionary. https://ww2.amstat.org/publications/jse/v19n3/decock/datadocumentation.txt"
   ]
  },
  {
   "cell_type": "code",
   "execution_count": 287,
   "metadata": {},
   "outputs": [],
   "source": [
    "ames = ames.replace({\"BsmtCond\": {\"No\": 0, \"Po\": 1, \"Fa\": 2, \"TA\": 3, \"Gd\": 4, \"Ex\": 5}})"
   ]
  },
  {
   "cell_type": "code",
   "execution_count": 288,
   "metadata": {},
   "outputs": [
    {
     "data": {
      "text/plain": [
       "3.0    1311\n",
       "4.0      65\n",
       "2.0      45\n",
       "1.0       2\n",
       "Name: BsmtCond, dtype: int64"
      ]
     },
     "execution_count": 288,
     "metadata": {},
     "output_type": "execute_result"
    }
   ],
   "source": [
    "ames['BsmtCond'].value_counts()"
   ]
  },
  {
   "cell_type": "code",
   "execution_count": 289,
   "metadata": {},
   "outputs": [],
   "source": [
    "ames = ames.replace({\"BsmtQual\" : {\"No\" : 0, \"Po\" : 1, \"Fa\" : 2, \"TA\": 3, \"Gd\" : 4, \"Ex\" : 5}})"
   ]
  },
  {
   "cell_type": "code",
   "execution_count": 290,
   "metadata": {},
   "outputs": [
    {
     "data": {
      "text/plain": [
       "3.0    649\n",
       "4.0    618\n",
       "5.0    121\n",
       "2.0     35\n",
       "Name: BsmtQual, dtype: int64"
      ]
     },
     "execution_count": 290,
     "metadata": {},
     "output_type": "execute_result"
    }
   ],
   "source": [
    "ames['BsmtQual'].value_counts()"
   ]
  },
  {
   "cell_type": "markdown",
   "metadata": {},
   "source": [
    "**PROBLEMS**\n",
    "\n",
    "Continue to code a few more columns and make sure to replace any `na` values in at least:\n",
    "\n",
    "- `OverallQual` (Nothing done. Convert to 5 scale?)\n",
    "- `OverallCond` (Nothing done. Convert to 5 scale?)\n",
    "- `GarageQual` (DONE)\n",
    "- `GarageCond` (DONE)\n",
    "- `PoolArea` (DONE)\n",
    "- `PoolQC` (DONE)"
   ]
  },
  {
   "cell_type": "code",
   "execution_count": 291,
   "metadata": {},
   "outputs": [
    {
     "data": {
      "text/plain": [
       "Gd    3\n",
       "Ex    2\n",
       "Fa    2\n",
       "Name: PoolQC, dtype: int64"
      ]
     },
     "execution_count": 291,
     "metadata": {},
     "output_type": "execute_result"
    }
   ],
   "source": [
    "ames['PoolQC'].value_counts()"
   ]
  },
  {
   "cell_type": "code",
   "execution_count": 292,
   "metadata": {},
   "outputs": [],
   "source": [
    "ames = ames.replace({\"GarageQual\" : {\"Po\" : 1, \"Fa\" : 2, \"TA\": 3, \"Gd\" : 4, \"Ex\" : 5}})"
   ]
  },
  {
   "cell_type": "code",
   "execution_count": 293,
   "metadata": {},
   "outputs": [
    {
     "data": {
      "text/plain": [
       "3.0    1311\n",
       "2.0      48\n",
       "4.0      14\n",
       "1.0       3\n",
       "5.0       3\n",
       "Name: GarageQual, dtype: int64"
      ]
     },
     "execution_count": 293,
     "metadata": {},
     "output_type": "execute_result"
    }
   ],
   "source": [
    "ames['GarageQual'].value_counts()"
   ]
  },
  {
   "cell_type": "code",
   "execution_count": 294,
   "metadata": {},
   "outputs": [],
   "source": [
    "ames = ames.replace({\"GarageCond\" : {\"Po\" : 1, \"Fa\" : 2, \"TA\": 3, \"Gd\" : 4, \"Ex\" : 5}})"
   ]
  },
  {
   "cell_type": "code",
   "execution_count": 295,
   "metadata": {},
   "outputs": [
    {
     "data": {
      "text/plain": [
       "3.0    1326\n",
       "2.0      35\n",
       "4.0       9\n",
       "1.0       7\n",
       "5.0       2\n",
       "Name: GarageCond, dtype: int64"
      ]
     },
     "execution_count": 295,
     "metadata": {},
     "output_type": "execute_result"
    }
   ],
   "source": [
    "ames['GarageCond'].value_counts()"
   ]
  },
  {
   "cell_type": "code",
   "execution_count": 296,
   "metadata": {},
   "outputs": [],
   "source": [
    "ames = ames.replace({\"PoolArea\" : {738 : 1, 648 : 1, 576: 1, 555 : 1, 519 : 1, 512 : 1, 480 : 1}})"
   ]
  },
  {
   "cell_type": "code",
   "execution_count": 297,
   "metadata": {},
   "outputs": [
    {
     "data": {
      "text/plain": [
       "0    1453\n",
       "1       7\n",
       "Name: PoolArea, dtype: int64"
      ]
     },
     "execution_count": 297,
     "metadata": {},
     "output_type": "execute_result"
    }
   ],
   "source": [
    "ames['PoolArea'].value_counts()"
   ]
  },
  {
   "cell_type": "code",
   "execution_count": 298,
   "metadata": {},
   "outputs": [],
   "source": [
    "ames = ames.replace({\"PoolQC\" : {\"Po\" : 1, \"Fa\" : 2, \"TA\": 3, \"Gd\" : 4, \"Ex\" : 5}})\n",
    "\n",
    "ames[\"PoolQC\"].fillna(0, inplace=True)"
   ]
  },
  {
   "cell_type": "code",
   "execution_count": 299,
   "metadata": {},
   "outputs": [
    {
     "data": {
      "text/plain": [
       "0.0    1453\n",
       "4.0       3\n",
       "2.0       2\n",
       "5.0       2\n",
       "Name: PoolQC, dtype: int64"
      ]
     },
     "execution_count": 299,
     "metadata": {},
     "output_type": "execute_result"
    }
   ],
   "source": [
    "ames['PoolQC'].value_counts()"
   ]
  },
  {
   "cell_type": "markdown",
   "metadata": {},
   "source": [
    "**Deal With NaNs**\n",
    "\n",
    "Replace any `na` values in the following columns if able:\n",
    "\n",
    "- `LotFrontage` (Done)\n",
    "- `MasVnrType` (Done)\n",
    "- `MasVnrArea` (Done)\n",
    "- `BsmtQual` (Done)\n",
    "- `BsmtCond` (Done)\n",
    "- `BsmtExposure` (Done)\n",
    "- `BsmtFinType1` (Done)\n",
    "- `BsmtFinType2` (Done)\n",
    "- `Electrical` (Done)\n",
    "- `GarageType` (Done)\n",
    "- `GarageYrBlt` (Nothing done. Convert to 5 scale?)\n",
    "- `GarageFinish` (Done)\n",
    "- `Fence` (Done)\n",
    "- `MiscFeature`"
   ]
  },
  {
   "cell_type": "code",
   "execution_count": 300,
   "metadata": {},
   "outputs": [],
   "source": [
    "ames['LotFrontage'].value_counts()\n",
    "ames[\"LotFrontage\"].fillna(0, inplace=True)"
   ]
  },
  {
   "cell_type": "code",
   "execution_count": 301,
   "metadata": {},
   "outputs": [],
   "source": [
    "ames['MasVnrType'].value_counts()\n",
    "ames[\"MasVnrType\"].fillna(\"None\", inplace=True)"
   ]
  },
  {
   "cell_type": "code",
   "execution_count": 302,
   "metadata": {},
   "outputs": [],
   "source": [
    "ames['MasVnrArea'].value_counts()\n",
    "ames[\"MasVnrArea\"].fillna(0, inplace=True)"
   ]
  },
  {
   "cell_type": "code",
   "execution_count": 303,
   "metadata": {},
   "outputs": [
    {
     "data": {
      "text/plain": [
       "3.0    649\n",
       "4.0    618\n",
       "5.0    121\n",
       "0.0     37\n",
       "2.0     35\n",
       "Name: BsmtQual, dtype: int64"
      ]
     },
     "execution_count": 303,
     "metadata": {},
     "output_type": "execute_result"
    }
   ],
   "source": [
    "ames['BsmtQual'].value_counts()\n",
    "ames[\"BsmtQual\"].fillna(0, inplace=True)\n",
    "ames['BsmtQual'].value_counts()\n"
   ]
  },
  {
   "cell_type": "code",
   "execution_count": 304,
   "metadata": {},
   "outputs": [
    {
     "data": {
      "text/plain": [
       "3.0    1311\n",
       "4.0      65\n",
       "2.0      45\n",
       "0.0      37\n",
       "1.0       2\n",
       "Name: BsmtCond, dtype: int64"
      ]
     },
     "execution_count": 304,
     "metadata": {},
     "output_type": "execute_result"
    }
   ],
   "source": [
    "ames['BsmtCond'].value_counts()\n",
    "ames[\"BsmtCond\"].fillna(0, inplace=True)\n",
    "ames['BsmtCond'].value_counts()"
   ]
  },
  {
   "cell_type": "code",
   "execution_count": 305,
   "metadata": {},
   "outputs": [
    {
     "data": {
      "text/plain": [
       "1    953\n",
       "3    221\n",
       "4    134\n",
       "2    114\n",
       "0     38\n",
       "Name: BsmtExposure, dtype: int64"
      ]
     },
     "execution_count": 305,
     "metadata": {},
     "output_type": "execute_result"
    }
   ],
   "source": [
    "ames['BsmtExposure'].value_counts()\n",
    "ames[\"BsmtExposure\"].fillna(0, inplace=True)\n",
    "ames = ames.replace({\"BsmtExposure\" : {\"No\" : 1, \"Mn\" : 2, \"Av\": 3, \"Gd\" : 4}})\n",
    "ames['BsmtExposure'].value_counts()\n"
   ]
  },
  {
   "cell_type": "code",
   "execution_count": 306,
   "metadata": {},
   "outputs": [
    {
     "data": {
      "text/plain": [
       "0    467\n",
       "4    418\n",
       "3    353\n",
       "2    148\n",
       "1     74\n",
       "Name: BsmtFinType1, dtype: int64"
      ]
     },
     "execution_count": 306,
     "metadata": {},
     "output_type": "execute_result"
    }
   ],
   "source": [
    "ames['BsmtFinType1'].value_counts()\n",
    "ames[\"BsmtFinType1\"].fillna(0, inplace=True)\n",
    "ames = ames.replace({\"BsmtFinType1\" : {\"Unf\" : 0, \"LwQ\" : 1, \"BLQ\": 2, \"Rec\" : 3, \"ALQ\" : 3, \"GLQ\" : 4}})\n",
    "ames['BsmtFinType1'].value_counts()"
   ]
  },
  {
   "cell_type": "code",
   "execution_count": 307,
   "metadata": {},
   "outputs": [
    {
     "data": {
      "text/plain": [
       "0    1294\n",
       "3      73\n",
       "1      46\n",
       "2      33\n",
       "4      14\n",
       "Name: BsmtFinType2, dtype: int64"
      ]
     },
     "execution_count": 307,
     "metadata": {},
     "output_type": "execute_result"
    }
   ],
   "source": [
    "ames['BsmtFinType2'].value_counts()\n",
    "ames[\"BsmtFinType2\"].fillna(0, inplace=True)\n",
    "ames = ames.replace({\"BsmtFinType2\" : {\"Unf\" : 0, \"LwQ\" : 1, \"BLQ\": 2, \"Rec\" : 3, \"ALQ\" : 3, \"GLQ\" : 4}})\n",
    "ames['BsmtFinType2'].value_counts()"
   ]
  },
  {
   "cell_type": "code",
   "execution_count": 308,
   "metadata": {},
   "outputs": [
    {
     "data": {
      "text/plain": [
       "4    1334\n",
       "3      94\n",
       "2      27\n",
       "1       3\n",
       "0       2\n",
       "Name: Electrical, dtype: int64"
      ]
     },
     "execution_count": 308,
     "metadata": {},
     "output_type": "execute_result"
    }
   ],
   "source": [
    "ames['Electrical'].value_counts()\n",
    "ames[\"Electrical\"].fillna(0, inplace=True)\n",
    "ames = ames.replace({\"Electrical\" : {\"Mix\": 0, \"FuseP\" : 1, \"FuseF\" : 2, \"FuseA\" : 3, \"SBrkr\" : 4}})\n",
    "ames['Electrical'].value_counts()\n"
   ]
  },
  {
   "cell_type": "code",
   "execution_count": 309,
   "metadata": {},
   "outputs": [
    {
     "data": {
      "text/plain": [
       "3    870\n",
       "0    468\n",
       "4     94\n",
       "2     19\n",
       "1      9\n",
       "Name: GarageType, dtype: int64"
      ]
     },
     "execution_count": 309,
     "metadata": {},
     "output_type": "execute_result"
    }
   ],
   "source": [
    "ames[\"GarageType\"].value_counts()\n",
    "ames[\"GarageType\"].fillna(0, inplace=True)\n",
    "ames = ames.replace({\"GarageType\" : {\"Detchd\" : 0, \"CarPort\" : 1, \"Basment\": 2, \"Attchd\" : 3, \"2Types\" : 4, \"BuiltIn\" : 4}})\n",
    "ames[\"GarageType\"].value_counts()\n"
   ]
  },
  {
   "cell_type": "code",
   "execution_count": 310,
   "metadata": {},
   "outputs": [
    {
     "data": {
      "text/plain": [
       "1    605\n",
       "2    422\n",
       "3    352\n",
       "0     81\n",
       "Name: GarageFinish, dtype: int64"
      ]
     },
     "execution_count": 310,
     "metadata": {},
     "output_type": "execute_result"
    }
   ],
   "source": [
    "ames[\"GarageFinish\"].value_counts()\n",
    "ames[\"GarageFinish\"].fillna(0, inplace=True)\n",
    "ames = ames.replace({\"GarageFinish\" : {\"Unf\" : 1, \"RFn\" : 2, \"Fin\": 3}})\n",
    "ames[\"GarageFinish\"].value_counts()\n"
   ]
  },
  {
   "cell_type": "code",
   "execution_count": 311,
   "metadata": {},
   "outputs": [
    {
     "data": {
      "text/plain": [
       "0    1179\n",
       "2     157\n",
       "4      59\n",
       "3      54\n",
       "1      11\n",
       "Name: Fence, dtype: int64"
      ]
     },
     "execution_count": 311,
     "metadata": {},
     "output_type": "execute_result"
    }
   ],
   "source": [
    "ames[\"Fence\"].value_counts()\n",
    "ames[\"Fence\"].fillna(0, inplace=True)\n",
    "ames = ames.replace({\"Fence\" : {\"MnWw\" : 1, \"MnPrv\" : 2, \"GdWo\": 3, \"GdPrv\": 4}})\n",
    "ames[\"Fence\"].value_counts()\n",
    "\n"
   ]
  },
  {
   "cell_type": "code",
   "execution_count": 312,
   "metadata": {},
   "outputs": [],
   "source": [
    "ames[\"MiscFeature\"].value_counts()\n",
    "ames[\"MiscFeature\"].fillna(0, inplace=True)\n",
    "ames = ames.replace({\"MiscFeature\" : {\"Othr\" : 1, \"Shed\" : 2, \"Gar2\": 3, \"TenC\": 4}})       \n"
   ]
  },
  {
   "cell_type": "code",
   "execution_count": 313,
   "metadata": {},
   "outputs": [],
   "source": [
    "ames = ames.replace({\"BsmtQual\" : {1: \"isntgood\"}})"
   ]
  },
  {
   "cell_type": "code",
   "execution_count": 314,
   "metadata": {},
   "outputs": [],
   "source": [
    "ames[\"ExterQual\"].value_counts()\n",
    "ames[\"ExterCond\"].value_counts()\n",
    "ames = ames.replace({\"ExterQual\" : {\"Po\" : 1, \"Fa\" : 2, \"TA\": 3, \"Gd\": 4, \"Ex\": 5}})       \n",
    "ames = ames.replace({\"ExterCond\" : {\"Po\" : 1, \"Fa\" : 2, \"TA\": 3, \"Gd\": 4, \"Ex\": 5}})       \n"
   ]
  },
  {
   "cell_type": "code",
   "execution_count": 315,
   "metadata": {},
   "outputs": [],
   "source": [
    "ames[\"FireplaceQu\"].value_counts()\n",
    "ames = ames.replace({\"FireplaceQu\" : {\"None\" : 0, \"Po\" : 1, \"Fa\": 2, \"TA\": 3, \"Gd\": 4, \"Ex\": 5}})   \n",
    "\n"
   ]
  },
  {
   "cell_type": "code",
   "execution_count": 316,
   "metadata": {},
   "outputs": [],
   "source": [
    "ames[\"GarageCond\"].fillna(0, inplace=True)\n",
    "ames[\"GarageQual\"].fillna(0, inplace=True)\n"
   ]
  },
  {
   "cell_type": "markdown",
   "metadata": {},
   "source": [
    "### Adding New Features\n",
    "\n",
    "We can create many new features to help improve our models performance.  For example, any of the measures that have multiple categories could be combined.  Take `Overall`, `Garage`, and `Pool` for example.  We can create combinations of the subcolumns as follows."
   ]
  },
  {
   "cell_type": "code",
   "execution_count": 317,
   "metadata": {},
   "outputs": [],
   "source": [
    "ames['BasementOverall'] = ames['BsmtCond'].astype('int') * ames['BsmtQual'].astype('int')\n",
    "ames[\"GarageOverall\"] = ames[\"GarageCond\"].astype(\"int\") * ames[\"GarageQual\"].astype(\"int\")\n",
    "ames[\"PoolOverall\"] = ames[\"PoolQC\"].astype(\"int\") * ames[\"PoolArea\"].astype(\"int\")\n",
    "ames[\"OverallQualityScore\"] = ames[\"OverallQual\"] * ames[\"OverallCond\"]\n",
    "ames[\"ExternalOverall\"] = ames[\"ExterQual\"] * ames[\"ExterCond\"]\n",
    "ames[\"FireplaceOverall\"] = ames[\"Fireplaces\"] * ames[\"FireplaceQu\"]"
   ]
  },
  {
   "cell_type": "code",
   "execution_count": 318,
   "metadata": {},
   "outputs": [
    {
     "data": {
      "text/plain": [
       "Index(['Id', 'MSSubClass', 'LotArea', 'OverallQual', 'OverallCond',\n",
       "       'YearBuilt', 'YearRemodAdd', 'ExterQual', 'ExterCond', 'BsmtExposure',\n",
       "       'BsmtFinType1', 'BsmtFinSF1', 'BsmtFinType2', 'BsmtFinSF2', 'BsmtUnfSF',\n",
       "       'TotalBsmtSF', 'Electrical', '1stFlrSF', '2ndFlrSF', 'LowQualFinSF',\n",
       "       'GrLivArea', 'BsmtFullBath', 'BsmtHalfBath', 'FullBath', 'HalfBath',\n",
       "       'BedroomAbvGr', 'KitchenAbvGr', 'TotRmsAbvGrd', 'Fireplaces',\n",
       "       'FireplaceQu', 'GarageType', 'GarageFinish', 'GarageCars', 'GarageArea',\n",
       "       'WoodDeckSF', 'OpenPorchSF', 'EnclosedPorch', '3SsnPorch',\n",
       "       'ScreenPorch', 'PoolArea', 'Fence', 'MiscFeature', 'MiscVal', 'MoSold',\n",
       "       'YrSold', 'SalePrice', 'BasementOverall', 'GarageOverall',\n",
       "       'PoolOverall', 'OverallQualityScore', 'ExternalOverall',\n",
       "       'FireplaceOverall'],\n",
       "      dtype='object')"
      ]
     },
     "execution_count": 318,
     "metadata": {},
     "output_type": "execute_result"
    }
   ],
   "source": [
    "ames_numbers = ames.select_dtypes(include = \"int64\")\n",
    "ames_numbers.columns\n"
   ]
  },
  {
   "cell_type": "code",
   "execution_count": 319,
   "metadata": {},
   "outputs": [],
   "source": [
    "X = ames_numbers.drop(\"SalePrice\", axis=1)\n",
    "y = ames_numbers.SalePrice\n"
   ]
  },
  {
   "cell_type": "code",
   "execution_count": 320,
   "metadata": {},
   "outputs": [
    {
     "name": "stdout",
     "output_type": "stream",
     "text": [
      "Mean Squared Error is: 1084237865.343484 and Mean Squared Root Error is: 32927.767390812936\n"
     ]
    }
   ],
   "source": [
    "# This creates a simple model based on all \"int64\" \n",
    "# columns from the dataset as the X variable and the Sale Price as Y variable\n",
    "\n",
    "lr = LinearRegression()\n",
    "lr.fit(X, y)\n",
    "\n",
    "pred = lr.predict(X)\n",
    "\n",
    "from sklearn.metrics import mean_squared_error\n",
    "\n",
    "mse_1 = mean_squared_error(pred, y)\n",
    "\n",
    "msre_1 = np.sqrt(mean_squared_error(pred, y))\n",
    "\n",
    "print(\"Mean Squared Error is: {} and Mean Squared Root Error is: {}\".format(mse_1, msre_1))"
   ]
  },
  {
   "cell_type": "code",
   "execution_count": null,
   "metadata": {},
   "outputs": [],
   "source": [
    "from pandas.plotting import scatter_matrix\n",
    "scatter_matrix(ames);"
   ]
  },
  {
   "cell_type": "code",
   "execution_count": 329,
   "metadata": {},
   "outputs": [
    {
     "name": "stdout",
     "output_type": "stream",
     "text": [
      "                     Id  MSSubClass  LotFrontage   LotArea  OverallQual  \\\n",
      "Id             1.000000    0.011156    -0.010601 -0.033226    -0.028365   \n",
      "MSSubClass     0.011156    1.000000    -0.386347 -0.139781     0.032628   \n",
      "LotFrontage   -0.010601   -0.386347     1.000000  0.426095     0.251646   \n",
      "LotArea       -0.033226   -0.139781     0.426095  1.000000     0.105806   \n",
      "OverallQual   -0.028365    0.032628     0.251646  0.105806     1.000000   \n",
      "OverallCond    0.012609   -0.059316    -0.059213 -0.005636    -0.091932   \n",
      "YearBuilt     -0.012713    0.027850     0.123349  0.014228     0.572323   \n",
      "YearRemodAdd  -0.021998    0.040581     0.088866  0.013788     0.550684   \n",
      "MasVnrArea    -0.050298    0.022936     0.193458  0.104160     0.411876   \n",
      "BsmtFinSF1    -0.005024   -0.069836     0.233633  0.214103     0.239666   \n",
      "BsmtFinSF2    -0.005968   -0.065649     0.049900  0.111170    -0.059119   \n",
      "BsmtUnfSF     -0.007940   -0.140759     0.132644 -0.002618     0.308159   \n",
      "TotalBsmtSF   -0.015415   -0.238518     0.392075  0.260833     0.537808   \n",
      "1stFlrSF       0.010496   -0.251758     0.457181  0.299475     0.476224   \n",
      "2ndFlrSF       0.005590    0.307886     0.080177  0.050986     0.295493   \n",
      "LowQualFinSF  -0.044230    0.046474     0.038469  0.004779    -0.030429   \n",
      "GrLivArea      0.008273    0.074853     0.402797  0.263116     0.593007   \n",
      "BsmtFullBath   0.002289    0.003491     0.100949  0.158155     0.111098   \n",
      "BsmtHalfBath  -0.020155   -0.002333    -0.007234  0.048046    -0.040150   \n",
      "FullBath       0.005587    0.131608     0.198769  0.126031     0.550600   \n",
      "HalfBath       0.006784    0.177354     0.053532  0.014259     0.273458   \n",
      "BedroomAbvGr   0.037719   -0.023438     0.263170  0.119690     0.101676   \n",
      "KitchenAbvGr   0.002951    0.281721    -0.006069 -0.017784    -0.183882   \n",
      "TotRmsAbvGrd   0.027239    0.040380     0.352096  0.190015     0.427452   \n",
      "Fireplaces    -0.019772   -0.045569     0.266639  0.271364     0.396765   \n",
      "GarageYrBlt    0.000072    0.085072     0.070250 -0.024947     0.547766   \n",
      "GarageCars     0.016570   -0.040110     0.285691  0.154871     0.600671   \n",
      "GarageArea     0.017634   -0.098672     0.344997  0.180403     0.562022   \n",
      "WoodDeckSF    -0.029643   -0.012579     0.088521  0.171698     0.238923   \n",
      "OpenPorchSF   -0.000477   -0.006100     0.151972  0.084774     0.308819   \n",
      "EnclosedPorch  0.002889   -0.012037     0.010700 -0.018340    -0.113937   \n",
      "3SsnPorch     -0.046635   -0.043825     0.070029  0.020423     0.030371   \n",
      "ScreenPorch    0.001330   -0.026030     0.041383  0.043160     0.064886   \n",
      "PoolArea       0.057044    0.008283     0.206167  0.077672     0.065166   \n",
      "MiscVal       -0.006242   -0.007683     0.003368  0.038068    -0.031406   \n",
      "MoSold         0.021172   -0.013585     0.011200  0.001205     0.070815   \n",
      "YrSold         0.000712   -0.021407     0.007450 -0.014261    -0.027347   \n",
      "SalePrice     -0.021917   -0.084284     0.351799  0.263843     0.790982   \n",
      "\n",
      "               OverallCond  YearBuilt  YearRemodAdd  MasVnrArea  BsmtFinSF1  \\\n",
      "Id                0.012609  -0.012713     -0.021998   -0.050298   -0.005024   \n",
      "MSSubClass       -0.059316   0.027850      0.040581    0.022936   -0.069836   \n",
      "LotFrontage      -0.059213   0.123349      0.088866    0.193458    0.233633   \n",
      "LotArea          -0.005636   0.014228      0.013788    0.104160    0.214103   \n",
      "OverallQual      -0.091932   0.572323      0.550684    0.411876    0.239666   \n",
      "OverallCond       1.000000  -0.375983      0.073741   -0.128101   -0.046231   \n",
      "YearBuilt        -0.375983   1.000000      0.592855    0.315707    0.249503   \n",
      "YearRemodAdd      0.073741   0.592855      1.000000    0.179618    0.128451   \n",
      "MasVnrArea       -0.128101   0.315707      0.179618    1.000000    0.264736   \n",
      "BsmtFinSF1       -0.046231   0.249503      0.128451    0.264736    1.000000   \n",
      "BsmtFinSF2        0.040229  -0.049107     -0.067759   -0.072319   -0.050117   \n",
      "BsmtUnfSF        -0.136841   0.149040      0.181133    0.114442   -0.495251   \n",
      "TotalBsmtSF      -0.171098   0.391452      0.291066    0.363936    0.522396   \n",
      "1stFlrSF         -0.144203   0.281986      0.240379    0.344501    0.445863   \n",
      "2ndFlrSF          0.028942   0.010308      0.140024    0.174561   -0.137079   \n",
      "LowQualFinSF      0.025494  -0.183784     -0.062419   -0.069071   -0.064503   \n",
      "GrLivArea        -0.079686   0.199010      0.287389    0.390857    0.208171   \n",
      "BsmtFullBath     -0.054942   0.187599      0.119470    0.085310    0.649212   \n",
      "BsmtHalfBath      0.117821  -0.038162     -0.012337    0.026673    0.067418   \n",
      "FullBath         -0.194149   0.468271      0.439046    0.276833    0.058543   \n",
      "HalfBath         -0.060769   0.242656      0.183331    0.201444    0.004262   \n",
      "BedroomAbvGr      0.012980  -0.070651     -0.040581    0.102821   -0.107355   \n",
      "KitchenAbvGr     -0.087001  -0.174800     -0.149598   -0.037610   -0.081007   \n",
      "TotRmsAbvGrd     -0.057583   0.095589      0.191740    0.280682    0.044316   \n",
      "Fireplaces       -0.023820   0.147716      0.112581    0.249070    0.260011   \n",
      "GarageYrBlt      -0.324297   0.825667      0.642277    0.252691    0.153484   \n",
      "GarageCars       -0.185758   0.537850      0.420622    0.364204    0.224054   \n",
      "GarageArea       -0.151521   0.478954      0.371600    0.373066    0.296970   \n",
      "WoodDeckSF       -0.003334   0.224880      0.205726    0.159718    0.204306   \n",
      "OpenPorchSF      -0.032589   0.188686      0.226298    0.125703    0.111761   \n",
      "EnclosedPorch     0.070356  -0.387268     -0.193919   -0.110204   -0.102303   \n",
      "3SsnPorch         0.025504   0.031355      0.045286    0.018796    0.026451   \n",
      "ScreenPorch       0.054811  -0.050364     -0.038740    0.061466    0.062021   \n",
      "PoolArea         -0.001985   0.004950      0.005829    0.011723    0.140491   \n",
      "MiscVal           0.068777  -0.034383     -0.010286   -0.029815    0.003571   \n",
      "MoSold           -0.003511   0.012398      0.021490   -0.005965   -0.015727   \n",
      "YrSold            0.043950  -0.013618      0.035743   -0.008201    0.014359   \n",
      "SalePrice        -0.077856   0.522897      0.507101    0.477493    0.386420   \n",
      "\n",
      "                 ...      WoodDeckSF  OpenPorchSF  EnclosedPorch  3SsnPorch  \\\n",
      "Id               ...       -0.029643    -0.000477       0.002889  -0.046635   \n",
      "MSSubClass       ...       -0.012579    -0.006100      -0.012037  -0.043825   \n",
      "LotFrontage      ...        0.088521     0.151972       0.010700   0.070029   \n",
      "LotArea          ...        0.171698     0.084774      -0.018340   0.020423   \n",
      "OverallQual      ...        0.238923     0.308819      -0.113937   0.030371   \n",
      "OverallCond      ...       -0.003334    -0.032589       0.070356   0.025504   \n",
      "YearBuilt        ...        0.224880     0.188686      -0.387268   0.031355   \n",
      "YearRemodAdd     ...        0.205726     0.226298      -0.193919   0.045286   \n",
      "MasVnrArea       ...        0.159718     0.125703      -0.110204   0.018796   \n",
      "BsmtFinSF1       ...        0.204306     0.111761      -0.102303   0.026451   \n",
      "BsmtFinSF2       ...        0.067898     0.003093       0.036543  -0.029993   \n",
      "BsmtUnfSF        ...       -0.005316     0.129005      -0.002538   0.020764   \n",
      "TotalBsmtSF      ...        0.232019     0.247264      -0.095478   0.037384   \n",
      "1stFlrSF         ...        0.235459     0.211671      -0.065292   0.056104   \n",
      "2ndFlrSF         ...        0.092165     0.208026       0.061989  -0.024358   \n",
      "LowQualFinSF     ...       -0.025444     0.018251       0.061081  -0.004296   \n",
      "GrLivArea        ...        0.247433     0.330224       0.009113   0.020643   \n",
      "BsmtFullBath     ...        0.175315     0.067341      -0.049911  -0.000106   \n",
      "BsmtHalfBath     ...        0.040161    -0.025324      -0.008555   0.035114   \n",
      "FullBath         ...        0.187703     0.259977      -0.115093   0.035353   \n",
      "HalfBath         ...        0.108080     0.199740      -0.095317  -0.004972   \n",
      "BedroomAbvGr     ...        0.046854     0.093810       0.041570  -0.024478   \n",
      "KitchenAbvGr     ...       -0.090130    -0.070091       0.037312  -0.024600   \n",
      "TotRmsAbvGrd     ...        0.165984     0.234192       0.004151  -0.006683   \n",
      "Fireplaces       ...        0.200019     0.169405      -0.024822   0.011257   \n",
      "GarageYrBlt      ...        0.224577     0.228425      -0.297003   0.023544   \n",
      "GarageCars       ...        0.226342     0.213569      -0.151434   0.035765   \n",
      "GarageArea       ...        0.224666     0.241435      -0.121777   0.035087   \n",
      "WoodDeckSF       ...        1.000000     0.058661      -0.125989  -0.032771   \n",
      "OpenPorchSF      ...        0.058661     1.000000      -0.093079  -0.005842   \n",
      "EnclosedPorch    ...       -0.125989    -0.093079       1.000000  -0.037305   \n",
      "3SsnPorch        ...       -0.032771    -0.005842      -0.037305   1.000000   \n",
      "ScreenPorch      ...       -0.074181     0.074304      -0.082864  -0.031436   \n",
      "PoolArea         ...        0.073378     0.060762       0.054203  -0.007992   \n",
      "MiscVal          ...       -0.009551    -0.018584       0.018361   0.000354   \n",
      "MoSold           ...        0.021011     0.071255      -0.028887   0.029474   \n",
      "YrSold           ...        0.022270    -0.057619      -0.009916   0.018645   \n",
      "SalePrice        ...        0.324413     0.315856      -0.128578   0.044584   \n",
      "\n",
      "               ScreenPorch  PoolArea   MiscVal    MoSold    YrSold  SalePrice  \n",
      "Id                0.001330  0.057044 -0.006242  0.021172  0.000712  -0.021917  \n",
      "MSSubClass       -0.026030  0.008283 -0.007683 -0.013585 -0.021407  -0.084284  \n",
      "LotFrontage       0.041383  0.206167  0.003368  0.011200  0.007450   0.351799  \n",
      "LotArea           0.043160  0.077672  0.038068  0.001205 -0.014261   0.263843  \n",
      "OverallQual       0.064886  0.065166 -0.031406  0.070815 -0.027347   0.790982  \n",
      "OverallCond       0.054811 -0.001985  0.068777 -0.003511  0.043950  -0.077856  \n",
      "YearBuilt        -0.050364  0.004950 -0.034383  0.012398 -0.013618   0.522897  \n",
      "YearRemodAdd     -0.038740  0.005829 -0.010286  0.021490  0.035743   0.507101  \n",
      "MasVnrArea        0.061466  0.011723 -0.029815 -0.005965 -0.008201   0.477493  \n",
      "BsmtFinSF1        0.062021  0.140491  0.003571 -0.015727  0.014359   0.386420  \n",
      "BsmtFinSF2        0.088871  0.041709  0.004940 -0.015211  0.031706  -0.011378  \n",
      "BsmtUnfSF        -0.012579 -0.035092 -0.023837  0.034888 -0.041258   0.214479  \n",
      "TotalBsmtSF       0.084489  0.126053 -0.018479  0.013196 -0.014969   0.613581  \n",
      "1stFlrSF          0.088758  0.131525 -0.021096  0.031372 -0.013604   0.605852  \n",
      "2ndFlrSF          0.040606  0.081487  0.016197  0.035164 -0.028700   0.319334  \n",
      "LowQualFinSF      0.026799  0.062157 -0.003793 -0.022174 -0.028921  -0.025606  \n",
      "GrLivArea         0.101510  0.170205 -0.002416  0.050240 -0.036526   0.708624  \n",
      "BsmtFullBath      0.023148  0.067616 -0.023047 -0.025361  0.067049   0.227122  \n",
      "BsmtHalfBath      0.032121  0.020025 -0.007367  0.032873 -0.046524  -0.016844  \n",
      "FullBath         -0.008106  0.049604 -0.014290  0.055872 -0.019669   0.560664  \n",
      "HalfBath          0.072426  0.022381  0.001290 -0.009050 -0.010269   0.284108  \n",
      "BedroomAbvGr      0.044300  0.070703  0.007767  0.046544 -0.036014   0.168213  \n",
      "KitchenAbvGr     -0.051613 -0.014525  0.062341  0.026589  0.031687  -0.135907  \n",
      "TotRmsAbvGrd      0.059383  0.083757  0.024763  0.036907 -0.034516   0.533723  \n",
      "Fireplaces        0.184530  0.095074  0.001409  0.046357 -0.024096   0.466929  \n",
      "GarageYrBlt      -0.075418 -0.014501 -0.032417  0.005337 -0.001014   0.486362  \n",
      "GarageCars        0.050494  0.020934 -0.043080  0.040522 -0.039117   0.640409  \n",
      "GarageArea        0.051412  0.061047 -0.027400  0.027974 -0.027378   0.623431  \n",
      "WoodDeckSF       -0.074181  0.073378 -0.009551  0.021011  0.022270   0.324413  \n",
      "OpenPorchSF       0.074304  0.060762 -0.018584  0.071255 -0.057619   0.315856  \n",
      "EnclosedPorch    -0.082864  0.054203  0.018361 -0.028887 -0.009916  -0.128578  \n",
      "3SsnPorch        -0.031436 -0.007992  0.000354  0.029474  0.018645   0.044584  \n",
      "ScreenPorch       1.000000  0.051307  0.031946  0.023217  0.010694   0.111447  \n",
      "PoolArea          0.051307  1.000000  0.029669 -0.033737 -0.059689   0.092404  \n",
      "MiscVal           0.031946  0.029669  1.000000 -0.006495  0.004906  -0.021190  \n",
      "MoSold            0.023217 -0.033737 -0.006495  1.000000 -0.145721   0.046432  \n",
      "YrSold            0.010694 -0.059689  0.004906 -0.145721  1.000000  -0.028923  \n",
      "SalePrice         0.111447  0.092404 -0.021190  0.046432 -0.028923   1.000000  \n",
      "\n",
      "[38 rows x 38 columns]\n"
     ]
    }
   ],
   "source": [
    "# This creates a heatmap to see what features appear to be highly correlated with Sales Price\n",
    "\n",
    "ames_corr = ames.corr()\n",
    "print(ames_corr)"
   ]
  },
  {
   "cell_type": "markdown",
   "metadata": {},
   "source": [
    "# Correlation Findings\n",
    "\n",
    "It appears the following factors are most correlated with SalesPrice:\n",
    "* OverallQual - 0.79\n",
    "* GarageCars - 0.64\n",
    "* GarageArea - 0.62\n",
    "* TotalBsmtSF - 0.61\n",
    "* YearBuilt - 0.52\n",
    "* YearRemodAdd - 0.50\n",
    "* In addition, our calculated columns are included in our model\n"
   ]
  },
  {
   "cell_type": "code",
   "execution_count": 334,
   "metadata": {},
   "outputs": [],
   "source": [
    "dropped_list = ['Id', 'MSSubClass', 'LotArea', 'OverallCond',\n",
    "       'ExterQual', 'ExterCond', 'BsmtExposure',\n",
    "       'BsmtFinType1', 'BsmtFinSF1', 'BsmtFinType2', 'BsmtFinSF2', 'BsmtUnfSF',\n",
    "       'Electrical', '1stFlrSF', '2ndFlrSF', 'LowQualFinSF',\n",
    "       'GrLivArea', 'BsmtFullBath', 'BsmtHalfBath', 'FullBath', 'HalfBath',\n",
    "       'BedroomAbvGr', 'KitchenAbvGr', 'TotRmsAbvGrd', 'Fireplaces',\n",
    "       'FireplaceQu', 'GarageType', 'GarageFinish',\n",
    "       'WoodDeckSF', 'OpenPorchSF', 'EnclosedPorch', '3SsnPorch',\n",
    "       'ScreenPorch', 'PoolArea', 'Fence', 'MiscFeature', 'MiscVal', 'MoSold',\n",
    "       'YrSold', 'SalePrice']\n",
    "\n",
    "X = ames_numbers.drop(dropped_list, axis=1)\n",
    "y = ames_numbers.SalePrice\n"
   ]
  },
  {
   "cell_type": "code",
   "execution_count": 335,
   "metadata": {},
   "outputs": [
    {
     "name": "stdout",
     "output_type": "stream",
     "text": [
      "Mean Squared Error is: 1613362551.3474014 and Mean Squared Root Error is: 40166.68459491524\n"
     ]
    }
   ],
   "source": [
    "# This creates a simple model based on all \"int64\" \n",
    "# columns from the dataset as the X variable and the Sale Price as Y variable\n",
    "\n",
    "lr = LinearRegression()\n",
    "lr.fit(X, y)\n",
    "\n",
    "pred = lr.predict(X)\n",
    "\n",
    "from sklearn.metrics import mean_squared_error\n",
    "\n",
    "mse_1 = mean_squared_error(pred, y)\n",
    "\n",
    "msre_1 = np.sqrt(mean_squared_error(pred, y))\n",
    "\n",
    "print(\"Mean Squared Error is: {} and Mean Squared Root Error is: {}\".format(mse_1, msre_1))"
   ]
  },
  {
   "cell_type": "markdown",
   "metadata": {},
   "source": [
    "# Results\n",
    "\n",
    "* It appears our model has an MSRE currently \\$40166 off from the actual sales price on average\n",
    "\n",
    "## Next Steps / To Do:\n",
    "\n",
    "1. Split data into testing and training sets\n",
    "2. Normalize quantitative features (use scatter matrix or histogram to verify)\n",
    "3. Use Polynomial regression to improve performance of model\n",
    "\n"
   ]
  },
  {
   "cell_type": "code",
   "execution_count": null,
   "metadata": {},
   "outputs": [],
   "source": []
  }
 ],
 "metadata": {
  "kernelspec": {
   "display_name": "Python 3",
   "language": "python",
   "name": "python3"
  },
  "language_info": {
   "codemirror_mode": {
    "name": "ipython",
    "version": 3
   },
   "file_extension": ".py",
   "mimetype": "text/x-python",
   "name": "python",
   "nbconvert_exporter": "python",
   "pygments_lexer": "ipython3",
   "version": "3.6.4"
  }
 },
 "nbformat": 4,
 "nbformat_minor": 2
}
